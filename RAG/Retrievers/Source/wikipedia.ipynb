{
 "cells": [
  {
   "cell_type": "code",
   "execution_count": null,
   "id": "522c47f2",
   "metadata": {},
   "outputs": [],
   "source": [
    "from langchain_community.retrievers import WikipediaRetriever"
   ]
  },
  {
   "cell_type": "code",
   "execution_count": 2,
   "id": "36398f9e",
   "metadata": {},
   "outputs": [],
   "source": [
    "retriever = WikipediaRetriever(top_k_results=2,lang=\"en\")"
   ]
  },
  {
   "cell_type": "code",
   "execution_count": 3,
   "id": "6105578a",
   "metadata": {},
   "outputs": [],
   "source": [
    "query = \"Who is Shinchan?\"\n",
    "\n",
    "docs = retriever.invoke(query)"
   ]
  },
  {
   "cell_type": "code",
   "execution_count": 6,
   "id": "9f21dce2",
   "metadata": {},
   "outputs": [
    {
     "data": {
      "text/plain": [
       "[Document(metadata={'title': 'Crayon Shin-chan', 'summary': \"Crayon Shin-chan (Japanese: クレヨンしんちゃん, Hepburn: Kureyon Shin-chan) is a Japanese manga series written and illustrated by Yoshito Usui. Crayon Shin-chan made its first appearance in 1990 in a Japanese weekly magazine called Weekly Manga Action, which was published by Futabasha. Due to the death of author Yoshito Usui, the manga in its original form ended on September 11, 2009. A new manga began in the summer of 2010 by members of Usui's team, titled New Crayon Shin-chan (新クレヨンしんちゃん, Shin Kureyon Shin-chan).\\nAn animated television adaptation began airing on TV Asahi in 1992 and is still ongoing, with over 1200 episodes. The show has been dubbed in 30 languages which aired in 45 countries. As of 2023, both the Crayon Shin-Chan and New Crayon Shin-Chan series has over 148 million copies in circulation, making it among the best-selling manga series in history.\", 'source': 'https://en.wikipedia.org/wiki/Crayon_Shin-chan'}, page_content='Crayon Shin-chan (Japanese: クレヨンしんちゃん, Hepburn: Kureyon Shin-chan) is a Japanese manga series written and illustrated by Yoshito Usui. Crayon Shin-chan made its first appearance in 1990 in a Japanese weekly magazine called Weekly Manga Action, which was published by Futabasha. Due to the death of author Yoshito Usui, the manga in its original form ended on September 11, 2009. A new manga began in the summer of 2010 by members of Usui\\'s team, titled New Crayon Shin-chan (新クレヨンしんちゃん, Shin Kureyon Shin-chan).\\nAn animated television adaptation began airing on TV Asahi in 1992 and is still ongoing, with over 1200 episodes. The show has been dubbed in 30 languages which aired in 45 countries. As of 2023, both the Crayon Shin-Chan and New Crayon Shin-Chan series has over 148 million copies in circulation, making it among the best-selling manga series in history.\\n\\n\\n== Synopsis ==\\n\\nSet in the city of Kasukabe of Saitama Prefecture within the Greater Tokyo Area of Japan, the series follows the adventures of the five-year-old Shinnosuke \"Shin\" Nohara and his parents, baby sister, dog, neighbours, and best friends. Most of the plot is about Shin-chan\\'s daily life, but it is also often interspersed with a lot of fantastic and incredible elements.\\nMany of the jokes in the series stem from Shin-chan\\'s occasionally weird, unnatural and inappropriate use of language, as well as from his mischievous behaviour. Consequently, non-Japanese readers and some viewers may find it difficult to understand his jokes. Some gags may require an understanding of Japanese culture and/or language to be fully appreciated; for example, his \"Mr. Elephant\" impression, while being transparently obvious as a physical gag, also has a deeper resonance with contemporary Japanese culture since it refers to the popular Japanese children\\'s song \"Zou-san\" (ぞうさん). But after modest translation, it is popular in the rest of Asia due to cultural compatibility. It also contains many sarcastic jokes and stereotype humour.\\nThe series is mainly of comedy style with a lot of sexual innuendo, leading to parents forbidding their children to watch it. However, due to its popularity, it\\'s also stylistically as family-friendly as possible, although it may not apply everywhere. Most episodes are about the importance of family and friends. On rare occasions, it also has some darker episodes like Miss Matsuzaka\\'s boyfriend dying in the manga, though it was not adapted into an anime episode. It also includes several horror adaptations, for example \"The Line of no End\", \"The Horrible Elevator\" and \"The Kindergarten Stairs\".\\nAbnormal for his age, Shin-chan regularly becomes besotted with pretty female characters in skimpy clothing who are much older than him, and an additional source of humour is derived from his childlike attempts at flirting with these characters, such as by asking them (inappropriately, on several levels) \"Do you like green peppers?\" (ピーマン好き?) (because he hates green peppers so much). He continually displays a lack of tact when talking to adults, asking questions such as \"Why don\\'t you know to cook Aunty?\" to his friend\\'s mom or \"How old are you?\" to elderly people.\\n\\n\\n== Media ==\\n\\n\\n=== Manga ===\\n\\nCrayon Shin-chan, written and illustrated by Yoshito Usui, debuted in Futabasha\\'s seinen manga magazine Weekly Manga Action in 1990. It started as a spin-off of the character Shinnosuke Nikaido (二階堂信之介) of another series by Yoshito Usui, Darakuya Store Monogatari (だらくやストア物語). The chapters were collected into 50 tankōbon volumes, which were published under Futabasha\\'s Action Comics imprint, from April 11, 1992, to July 10, 2010.\\nYoshito Usui died on September 11, 2009, after a fall at Mount Arafune. After Usui died, Futabasha originally planned to end Crayon Shin-chan in November 2009. Upon discovering new manuscripts, Futabasha decided to extend the comic\\'s run until the March 2010 issue of the magazine, which shipped on February 5, 2010. Although the series formally ended on Febr'),\n",
       " Document(metadata={'title': 'Crayon Shin-chan: The Legend Called: Dance! Amigo!', 'summary': \"Crayon Shin-chan: The Legend Called: Dance! Amigo! (クレヨンしんちゃん 伝説を呼ぶ 踊れ!アミーゴ! Kureyon Shin Chan: Densetsu wo Yobu: Odore! Amīgo!), also known as Shin Chan Let's Dance Amigo!, is a 2006 anime film. It is the 14th film based on the popular comedy manga and anime series Crayon Shin-chan. The film took inspiration from the American film Body Double (1984). The film was released to theatres on April 15, 2006 in Japan. \\nThe film was produced by Shin-Ei Animation, the studio behind the anime television.\", 'source': 'https://en.wikipedia.org/wiki/Crayon_Shin-chan:_The_Legend_Called:_Dance!_Amigo!'}, page_content=\"Crayon Shin-chan: The Legend Called: Dance! Amigo! (クレヨンしんちゃん 伝説を呼ぶ 踊れ!アミーゴ! Kureyon Shin Chan: Densetsu wo Yobu: Odore! Amīgo!), also known as Shin Chan Let's Dance Amigo!, is a 2006 anime film. It is the 14th film based on the popular comedy manga and anime series Crayon Shin-chan. The film took inspiration from the American film Body Double (1984). The film was released to theatres on April 15, 2006 in Japan. \\nThe film was produced by Shin-Ei Animation, the studio behind the anime television.\\n\\n\\n== Plot ==\\n  \\nAt a restaurant, the 3 teachers of Futaba Kindergarten discuss about the plans for the upcoming annual sports day event. Miss Matsuzaka suggests samba dance, which Miss Yoshinaga & Miss Ageo dismiss off. Late at night, when an inebriated Miss Yoshinaga was walking alone, she is ambushed by an entity lurking in the dark resembling her. \\nThe next day, Shinchan is late as usual & cracks some very crude & crass off-color toilet jokes while indulging in mooning (like his usual self) towards Miss Yoshinaga but surprisingly she isn't put off from Shinchan's age-inappropriate antics, which surprises Misae. She even suggests to the Principal Takakura to include samba for the upcoming event, surprising Miss Matsuzaka. \\nAt the school, Masao looks disturbed, saying that Ai has started to refer to him affectionately (which is unusual because she was besotted with Shinchan & whenever Masao tried to attract her attention, Ai would insult his attempts in plainsight). Masao is convinced that this Ai isn't real, but a body double. Bo then discusses about the urban legend of the doppelganger & tells the group about rumours circulating in Kasukabe city about people visiting a newly opened shopping mall being replaced by their dopplegangers. Initially the children dismiss this off, but Kazama observes that Miss Yoshinaga doesn't reacts at all to being pinched under her feet by a thumbtack that had fallen inside one of her shoes. At his house Kazama's mom is dancing to the tune of samba all alone by herself (which is very unusual for her). Kazama, unable to grasp the fact that his mother is not the real person, cries out loudly about it. Kazama's mom consoles him while her face gets twisted into a ghastly sight (which isn't noticed by him). In Shinchan's house, the family discusses about the same rumour while watching the live broadcast of a samba festival at Santa Monica. \\nThe next day, the family visit the shopping mall in question. Hiroshi has a glance of his doppleganger, while Misae sees her doppleganger roaming around with a doppleganger Himawari. This doppelganger Misae tries to take away Shinchan by luring him with the promise of buying him chocolates, but an unknown beautiful woman (whom Shinchan had befriended at the mall after being besotted with her physical beauty) saves him & indulges in physical combat with her. She violently throws off the doppelganger Misae against the shelves, which causes her limbs to twist like soft tissue. This doppelganger Misae then flees the spot. Hidden inside the mall, a group of masked people in black capes dispose of the doppleganger/clone by making it explode like firecracker. Shinchan's family, who didn't witness the fight, were visibly troubled at the sight of their body doubles & quickly get out from there. \\nThe next day, Misae insists that Hiroshi shouldn't go to the office on that day, but Hiroshi nevertheless goes. At school, Shinchan discusses all that he had witnessed at the mall with his friends. The children then discuss about the people around them not being their real selves. At this point, Principal Takakura calls out the children to begin practising for their sports event, but instead of playing their regular music cassette (which Shinchan's friends find out lying in the ground), he plays a psychedelic music & everyone present in the school (except Shinchan & his 4 friends, Miss Ageo & Miss Matsuzaka) start dancing in a frenzy in samba to its tunes. The children realise that all tho\")]"
      ]
     },
     "execution_count": 6,
     "metadata": {},
     "output_type": "execute_result"
    }
   ],
   "source": [
    "docs"
   ]
  },
  {
   "cell_type": "code",
   "execution_count": 12,
   "id": "405db229",
   "metadata": {},
   "outputs": [
    {
     "name": "stdout",
     "output_type": "stream",
     "text": [
      "Document 1:\n",
      "Title: Crayon Shin-chan\n",
      "Content: Crayon Shin-chan (Japanese: クレヨンしんちゃん, Hepburn: Kureyon Shin-chan) is a Japanese manga series written and illustrated by Yoshito Usui. Crayon Shin-chan made its first appearance in 1990 in a Japanese weekly magazine called Weekly Manga Action, which was published by Futabasha. Due to the death of author Yoshito Usui, the manga in its original form ended on September 11, 2009. A new manga began in the summer of 2010 by members of Usui's team, titled New Crayon Shin-chan (新クレヨンしんちゃん, Shin Kureyon Shin-chan).\n",
      "An animated television adaptation began airing on TV Asahi in 1992 and is still ongoing, with over 1200 episodes. The show has been dubbed in 30 languages which aired in 45 countries. As of 2023, both the Crayon Shin-Chan and New Crayon Shin-Chan series has over 148 million copies in circulation, making it among the best-selling manga series in history.\n",
      "\n",
      "\n",
      "== Synopsis ==\n",
      "\n",
      "Set in the city of Kasukabe of Saitama Prefecture within the Greater Tokyo Area of Japan, the series follows the adventures of the five-year-old Shinnosuke \"Shin\" Nohara and his parents, baby sister, dog, neighbours, and best friends. Most of the plot is about Shin-chan's daily life, but it is also often interspersed with a lot of fantastic and incredible elements.\n",
      "Many of the jokes in the series stem from Shin-chan's occasionally weird, unnatural and inappropriate use of language, as well as from his mischievous behaviour. Consequently, non-Japanese readers and some viewers may find it difficult to understand his jokes. Some gags may require an understanding of Japanese culture and/or language to be fully appreciated; for example, his \"Mr. Elephant\" impression, while being transparently obvious as a physical gag, also has a deeper resonance with contemporary Japanese culture since it refers to the popular Japanese children's song \"Zou-san\" (ぞうさん). But after modest translation, it is popular in the rest of Asia due to cultural compatibility. It also contains many sarcastic jokes and stereotype humour.\n",
      "The series is mainly of comedy style with a lot of sexual innuendo, leading to parents forbidding their children to watch it. However, due to its popularity, it's also stylistically as family-friendly as possible, although it may not apply everywhere. Most episodes are about the importance of family and friends. On rare occasions, it also has some darker episodes like Miss Matsuzaka's boyfriend dying in the manga, though it was not adapted into an anime episode. It also includes several horror adaptations, for example \"The Line of no End\", \"The Horrible Elevator\" and \"The Kindergarten Stairs\".\n",
      "Abnormal for his age, Shin-chan regularly becomes besotted with pretty female characters in skimpy clothing who are much older than him, and an additional source of humour is derived from his childlike attempts at flirting with these characters, such as by asking them (inappropriately, on several levels) \"Do you like green peppers?\" (ピーマン好き?) (because he hates green peppers so much). He continually displays a lack of tact when talking to adults, asking questions such as \"Why don't you know to cook Aunty?\" to his friend's mom or \"How old are you?\" to elderly people.\n",
      "\n",
      "\n",
      "== Media ==\n",
      "\n",
      "\n",
      "=== Manga ===\n",
      "\n",
      "Crayon Shin-chan, written and illustrated by Yoshito Usui, debuted in Futabasha's seinen manga magazine Weekly Manga Action in 1990. It started as a spin-off of the character Shinnosuke Nikaido (二階堂信之介) of another series by Yoshito Usui, Darakuya Store Monogatari (だらくやストア物語). The chapters were collected into 50 tankōbon volumes, which were published under Futabasha's Action Comics imprint, from April 11, 1992, to July 10, 2010.\n",
      "Yoshito Usui died on September 11, 2009, after a fall at Mount Arafune. After Usui died, Futabasha originally planned to end Crayon Shin-chan in November 2009. Upon discovering new manuscripts, Futabasha decided to extend the comic's run until the March 2010 issue of the magazine, which shipped on February 5, 2010. Although the series formally ended on Febr\n",
      "\n",
      "Document 2:\n",
      "Title: Crayon Shin-chan: The Legend Called: Dance! Amigo!\n",
      "Content: Crayon Shin-chan: The Legend Called: Dance! Amigo! (クレヨンしんちゃん 伝説を呼ぶ 踊れ!アミーゴ! Kureyon Shin Chan: Densetsu wo Yobu: Odore! Amīgo!), also known as Shin Chan Let's Dance Amigo!, is a 2006 anime film. It is the 14th film based on the popular comedy manga and anime series Crayon Shin-chan. The film took inspiration from the American film Body Double (1984). The film was released to theatres on April 15, 2006 in Japan. \n",
      "The film was produced by Shin-Ei Animation, the studio behind the anime television.\n",
      "\n",
      "\n",
      "== Plot ==\n",
      "  \n",
      "At a restaurant, the 3 teachers of Futaba Kindergarten discuss about the plans for the upcoming annual sports day event. Miss Matsuzaka suggests samba dance, which Miss Yoshinaga & Miss Ageo dismiss off. Late at night, when an inebriated Miss Yoshinaga was walking alone, she is ambushed by an entity lurking in the dark resembling her. \n",
      "The next day, Shinchan is late as usual & cracks some very crude & crass off-color toilet jokes while indulging in mooning (like his usual self) towards Miss Yoshinaga but surprisingly she isn't put off from Shinchan's age-inappropriate antics, which surprises Misae. She even suggests to the Principal Takakura to include samba for the upcoming event, surprising Miss Matsuzaka. \n",
      "At the school, Masao looks disturbed, saying that Ai has started to refer to him affectionately (which is unusual because she was besotted with Shinchan & whenever Masao tried to attract her attention, Ai would insult his attempts in plainsight). Masao is convinced that this Ai isn't real, but a body double. Bo then discusses about the urban legend of the doppelganger & tells the group about rumours circulating in Kasukabe city about people visiting a newly opened shopping mall being replaced by their dopplegangers. Initially the children dismiss this off, but Kazama observes that Miss Yoshinaga doesn't reacts at all to being pinched under her feet by a thumbtack that had fallen inside one of her shoes. At his house Kazama's mom is dancing to the tune of samba all alone by herself (which is very unusual for her). Kazama, unable to grasp the fact that his mother is not the real person, cries out loudly about it. Kazama's mom consoles him while her face gets twisted into a ghastly sight (which isn't noticed by him). In Shinchan's house, the family discusses about the same rumour while watching the live broadcast of a samba festival at Santa Monica. \n",
      "The next day, the family visit the shopping mall in question. Hiroshi has a glance of his doppleganger, while Misae sees her doppleganger roaming around with a doppleganger Himawari. This doppelganger Misae tries to take away Shinchan by luring him with the promise of buying him chocolates, but an unknown beautiful woman (whom Shinchan had befriended at the mall after being besotted with her physical beauty) saves him & indulges in physical combat with her. She violently throws off the doppelganger Misae against the shelves, which causes her limbs to twist like soft tissue. This doppelganger Misae then flees the spot. Hidden inside the mall, a group of masked people in black capes dispose of the doppleganger/clone by making it explode like firecracker. Shinchan's family, who didn't witness the fight, were visibly troubled at the sight of their body doubles & quickly get out from there. \n",
      "The next day, Misae insists that Hiroshi shouldn't go to the office on that day, but Hiroshi nevertheless goes. At school, Shinchan discusses all that he had witnessed at the mall with his friends. The children then discuss about the people around them not being their real selves. At this point, Principal Takakura calls out the children to begin practising for their sports event, but instead of playing their regular music cassette (which Shinchan's friends find out lying in the ground), he plays a psychedelic music & everyone present in the school (except Shinchan & his 4 friends, Miss Ageo & Miss Matsuzaka) start dancing in a frenzy in samba to its tunes. The children realise that all tho\n",
      "\n"
     ]
    }
   ],
   "source": [
    "for i,doc in enumerate(docs):\n",
    "    print(f\"Document {i+1}:\\nTitle: {doc.metadata['title']}\\nContent: {doc.page_content}\\n\" )"
   ]
  },
  {
   "cell_type": "code",
   "execution_count": null,
   "id": "70a71469",
   "metadata": {},
   "outputs": [],
   "source": []
  }
 ],
 "metadata": {
  "kernelspec": {
   "display_name": ".venv",
   "language": "python",
   "name": "python3"
  },
  "language_info": {
   "codemirror_mode": {
    "name": "ipython",
    "version": 3
   },
   "file_extension": ".py",
   "mimetype": "text/x-python",
   "name": "python",
   "nbconvert_exporter": "python",
   "pygments_lexer": "ipython3",
   "version": "3.13.3"
  }
 },
 "nbformat": 4,
 "nbformat_minor": 5
}
