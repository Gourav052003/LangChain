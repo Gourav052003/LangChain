{
 "cells": [
  {
   "cell_type": "code",
   "execution_count": 3,
   "id": "cef46d92",
   "metadata": {},
   "outputs": [],
   "source": [
    "from langchain_core.tools import tool"
   ]
  },
  {
   "cell_type": "code",
   "execution_count": 4,
   "id": "045937b1",
   "metadata": {},
   "outputs": [],
   "source": [
    "@tool\n",
    "def add(a:int,b:int)->int:\n",
    "    \"\"\"twe number addition\"\"\"\n",
    "    return a+b"
   ]
  },
  {
   "cell_type": "code",
   "execution_count": 5,
   "id": "152eea21",
   "metadata": {},
   "outputs": [],
   "source": [
    "@tool\n",
    "def multiply(a:int,b:int)->int:\n",
    "    \"\"\"two number multiplication\"\"\"\n",
    "    return a*b"
   ]
  },
  {
   "cell_type": "code",
   "execution_count": 6,
   "id": "5c379f52",
   "metadata": {},
   "outputs": [],
   "source": [
    "class MathToolKit:\n",
    "    def get_tools(self):\n",
    "        return [add,multiply]"
   ]
  },
  {
   "cell_type": "code",
   "execution_count": 7,
   "id": "3f8a82d1",
   "metadata": {},
   "outputs": [],
   "source": [
    "toolkit = MathToolKit()"
   ]
  },
  {
   "cell_type": "code",
   "execution_count": 8,
   "id": "d2f9b3f9",
   "metadata": {},
   "outputs": [],
   "source": [
    "tools = toolkit.get_tools()"
   ]
  },
  {
   "cell_type": "code",
   "execution_count": 9,
   "id": "a3c76f7b",
   "metadata": {},
   "outputs": [
    {
     "data": {
      "text/plain": [
       "[StructuredTool(name='add', description='twe number addition', args_schema=<class 'langchain_core.utils.pydantic.add'>, func=<function add at 0x00000206C0B6E5C0>),\n",
       " StructuredTool(name='multiply', description='two number multiplication', args_schema=<class 'langchain_core.utils.pydantic.multiply'>, func=<function multiply at 0x00000206C0B6F920>)]"
      ]
     },
     "execution_count": 9,
     "metadata": {},
     "output_type": "execute_result"
    }
   ],
   "source": [
    "tools"
   ]
  },
  {
   "cell_type": "code",
   "execution_count": 10,
   "id": "efc3195e",
   "metadata": {},
   "outputs": [
    {
     "name": "stdout",
     "output_type": "stream",
     "text": [
      "add\n",
      "twe number addition\n",
      "multiply\n",
      "two number multiplication\n"
     ]
    }
   ],
   "source": [
    "for tool in tools:\n",
    "    print(tool.name)\n",
    "    print(tool.description)\n",
    "    "
   ]
  },
  {
   "cell_type": "code",
   "execution_count": null,
   "id": "9a0ac7d7",
   "metadata": {},
   "outputs": [],
   "source": [
    "    "
   ]
  }
 ],
 "metadata": {
  "kernelspec": {
   "display_name": ".venv",
   "language": "python",
   "name": "python3"
  },
  "language_info": {
   "codemirror_mode": {
    "name": "ipython",
    "version": 3
   },
   "file_extension": ".py",
   "mimetype": "text/x-python",
   "name": "python",
   "nbconvert_exporter": "python",
   "pygments_lexer": "ipython3",
   "version": "3.13.3"
  }
 },
 "nbformat": 4,
 "nbformat_minor": 5
}
