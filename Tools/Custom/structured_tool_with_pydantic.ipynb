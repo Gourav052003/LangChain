{
 "cells": [
  {
   "cell_type": "code",
   "execution_count": 1,
   "id": "3abeeb83",
   "metadata": {},
   "outputs": [],
   "source": [
    "from langchain.tools import StructuredTool\n",
    "from pydantic import BaseModel,Field"
   ]
  },
  {
   "cell_type": "code",
   "execution_count": 2,
   "id": "7ae7036a",
   "metadata": {},
   "outputs": [],
   "source": [
    "class MutliplyInput(BaseModel):\n",
    "    a:int  = Field(required=True,description=\"first number to add\")\n",
    "    b:int  = Field(required=True,description=\"second number to add\")"
   ]
  },
  {
   "cell_type": "code",
   "execution_count": 3,
   "id": "b1d01246",
   "metadata": {},
   "outputs": [],
   "source": [
    "def muliplty(a:int,b:int)->int:\n",
    "    return a*b"
   ]
  },
  {
   "cell_type": "code",
   "execution_count": 4,
   "id": "44883040",
   "metadata": {},
   "outputs": [],
   "source": [
    "structured_tool = StructuredTool(\n",
    "    func=muliplty,\n",
    "    name=\"multiply function\",\n",
    "    description=\"multiply two numbers\",\n",
    "    args_schema=MutliplyInput\n",
    ")"
   ]
  },
  {
   "cell_type": "code",
   "execution_count": 6,
   "id": "67471730",
   "metadata": {},
   "outputs": [
    {
     "data": {
      "text/plain": [
       "30"
      ]
     },
     "execution_count": 6,
     "metadata": {},
     "output_type": "execute_result"
    }
   ],
   "source": [
    "results = structured_tool.invoke({\"a\":3,\"b\":10})\n",
    "results"
   ]
  },
  {
   "cell_type": "code",
   "execution_count": 10,
   "id": "c14c03fd",
   "metadata": {},
   "outputs": [
    {
     "name": "stdout",
     "output_type": "stream",
     "text": [
      "multiply function\n",
      "multiply two numbers\n",
      "{'a': {'description': 'first number to add', 'required': True, 'title': 'A', 'type': 'integer'}, 'b': {'description': 'second number to add', 'required': True, 'title': 'B', 'type': 'integer'}}\n",
      "<class '__main__.MutliplyInput'>\n"
     ]
    }
   ],
   "source": [
    "print(structured_tool.name)\n",
    "print(structured_tool.description)\n",
    "print(structured_tool.args)\n",
    "print(structured_tool.args_schema)"
   ]
  },
  {
   "cell_type": "code",
   "execution_count": null,
   "id": "d7f13793",
   "metadata": {},
   "outputs": [],
   "source": []
  }
 ],
 "metadata": {
  "kernelspec": {
   "display_name": ".venv",
   "language": "python",
   "name": "python3"
  },
  "language_info": {
   "codemirror_mode": {
    "name": "ipython",
    "version": 3
   },
   "file_extension": ".py",
   "mimetype": "text/x-python",
   "name": "python",
   "nbconvert_exporter": "python",
   "pygments_lexer": "ipython3",
   "version": "3.13.3"
  }
 },
 "nbformat": 4,
 "nbformat_minor": 5
}
