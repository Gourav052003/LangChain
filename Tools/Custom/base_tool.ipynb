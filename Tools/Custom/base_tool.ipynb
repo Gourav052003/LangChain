{
 "cells": [
  {
   "cell_type": "code",
   "execution_count": 4,
   "id": "7483aa2a",
   "metadata": {},
   "outputs": [],
   "source": [
    "from langchain.tools import BaseTool\n",
    "from typing import Type\n",
    "from pydantic import Field, BaseModel"
   ]
  },
  {
   "cell_type": "code",
   "execution_count": 5,
   "id": "1c8c99af",
   "metadata": {},
   "outputs": [],
   "source": [
    "class MutliplyInput(BaseModel):\n",
    "    a:int  = Field(required=True,description=\"first number to add\")\n",
    "    b:int  = Field(required=True,description=\"second number to add\")"
   ]
  },
  {
   "cell_type": "code",
   "execution_count": 7,
   "id": "c7a337dd",
   "metadata": {},
   "outputs": [],
   "source": [
    "class Multiply(BaseTool):\n",
    "    name:str = \"multiply\"\n",
    "    description:str = \"two number mmultiplication\"\n",
    "    \n",
    "    args_schema :Type[BaseModel]=MutliplyInput\n",
    "    def _run(self,a:int,b:int)->int:\n",
    "        return a*b"
   ]
  },
  {
   "cell_type": "code",
   "execution_count": 8,
   "id": "90d7ccd6",
   "metadata": {},
   "outputs": [],
   "source": [
    "Multiply_tool = Multiply()"
   ]
  },
  {
   "cell_type": "code",
   "execution_count": 10,
   "id": "c6e88372",
   "metadata": {},
   "outputs": [
    {
     "data": {
      "text/plain": [
       "15"
      ]
     },
     "execution_count": 10,
     "metadata": {},
     "output_type": "execute_result"
    }
   ],
   "source": [
    "Multiply_tool.invoke({\"a\":3,\"b\":5})"
   ]
  },
  {
   "cell_type": "code",
   "execution_count": 11,
   "id": "b58b2ef8",
   "metadata": {},
   "outputs": [
    {
     "name": "stdout",
     "output_type": "stream",
     "text": [
      "multiply\n",
      "two number mmultiplication\n",
      "<class '__main__.MutliplyInput'>\n",
      "{'a': {'description': 'first number to add', 'required': True, 'title': 'A', 'type': 'integer'}, 'b': {'description': 'second number to add', 'required': True, 'title': 'B', 'type': 'integer'}}\n"
     ]
    }
   ],
   "source": [
    "print(Multiply_tool.name)\n",
    "print(Multiply_tool.description)\n",
    "print(Multiply_tool.args_schema)\n",
    "print(Multiply_tool.args)"
   ]
  },
  {
   "cell_type": "code",
   "execution_count": null,
   "id": "9a2f55a0",
   "metadata": {},
   "outputs": [],
   "source": []
  }
 ],
 "metadata": {
  "kernelspec": {
   "display_name": ".venv",
   "language": "python",
   "name": "python3"
  },
  "language_info": {
   "codemirror_mode": {
    "name": "ipython",
    "version": 3
   },
   "file_extension": ".py",
   "mimetype": "text/x-python",
   "name": "python",
   "nbconvert_exporter": "python",
   "pygments_lexer": "ipython3",
   "version": "3.13.3"
  }
 },
 "nbformat": 4,
 "nbformat_minor": 5
}
