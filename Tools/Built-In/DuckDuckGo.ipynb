{
 "cells": [
  {
   "cell_type": "code",
   "execution_count": 2,
   "id": "098d9d25",
   "metadata": {},
   "outputs": [],
   "source": [
    "from langchain_community.tools import DuckDuckGoSearchRun"
   ]
  },
  {
   "cell_type": "code",
   "execution_count": 6,
   "id": "8fa883d1",
   "metadata": {},
   "outputs": [],
   "source": [
    "search_tool = DuckDuckGoSearchRun()\n",
    "results = search_tool.invoke(\"What is the temperature in chandigarh today\")"
   ]
  },
  {
   "cell_type": "code",
   "execution_count": 5,
   "id": "82db500f",
   "metadata": {},
   "outputs": [
    {
     "name": "stdout",
     "output_type": "stream",
     "text": [
      "30 Jun 2025 — Chandigarh Weather Today. The minimum temperature in Chandigarh today is likely to be around 24°C , while the maximum temperature may reach up to 28°C. 5 days ago — Current Temperature Level. 25 °C . Pleasant. patchy rain possible. Patchy rain nearbyFeels Like 27°CHumidity 85%. Pleasant temperature in Chandigarh. Air Quality ... 4 hours ago — Current weather in Chandigarh and forecast for today, tomorrow, and next 14 days. ... Temperature, 80 °F, 75 °F, 74 °F, 77 °F, 84 °F, 77 °F, 74 °F. Thundershowers ... 43 minutes ago — Today's Weather Report (Reported on 0830 IST) ; Chandigarh-City, 29.4 , -4.0, 21.6, -1.0 ... 2 days ago — Chandigarh weather & temperature forecast today: Temperature in Chandigarh, Chandigarh, India is 24.4°c , current weather condition is Patchy rain nearby ...\n"
     ]
    }
   ],
   "source": [
    "print(results)"
   ]
  },
  {
   "cell_type": "code",
   "execution_count": 7,
   "id": "f9e671ff",
   "metadata": {},
   "outputs": [
    {
     "name": "stdout",
     "output_type": "stream",
     "text": [
      "duckduckgo_search\n",
      "A wrapper around DuckDuckGo Search. Useful for when you need to answer questions about current events. Input should be a search query.\n",
      "{'query': {'description': 'search query to look up', 'title': 'Query', 'type': 'string'}}\n"
     ]
    }
   ],
   "source": [
    "print(search_tool.name)\n",
    "print(search_tool.description)\n",
    "print(search_tool.args)"
   ]
  },
  {
   "cell_type": "code",
   "execution_count": null,
   "id": "d6f6d973",
   "metadata": {},
   "outputs": [],
   "source": []
  }
 ],
 "metadata": {
  "kernelspec": {
   "display_name": ".venv",
   "language": "python",
   "name": "python3"
  },
  "language_info": {
   "codemirror_mode": {
    "name": "ipython",
    "version": 3
   },
   "file_extension": ".py",
   "mimetype": "text/x-python",
   "name": "python",
   "nbconvert_exporter": "python",
   "pygments_lexer": "ipython3",
   "version": "3.13.3"
  }
 },
 "nbformat": 4,
 "nbformat_minor": 5
}
