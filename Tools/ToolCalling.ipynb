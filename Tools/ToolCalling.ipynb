{
 "cells": [
  {
   "cell_type": "code",
   "execution_count": 5,
   "metadata": {
    "colab": {
     "base_uri": "https://localhost:8080/"
    },
    "executionInfo": {
     "elapsed": 5875,
     "status": "ok",
     "timestamp": 1756967981633,
     "user": {
      "displayName": "Gourav Gourav",
      "userId": "08092028497578921536"
     },
     "user_tz": -330
    },
    "id": "mHLfNl_RcytA",
    "outputId": "b879c95c-9d78-459b-e506-0e426f968d06"
   },
   "outputs": [
    {
     "name": "stdout",
     "output_type": "stream",
     "text": [
      "Requirement already satisfied: langchain_openai in /usr/local/lib/python3.12/dist-packages (0.3.32)\n",
      "Requirement already satisfied: openai in /usr/local/lib/python3.12/dist-packages (1.101.0)\n",
      "Requirement already satisfied: langchain in /usr/local/lib/python3.12/dist-packages (0.3.27)\n",
      "Requirement already satisfied: langchain-core<1.0.0,>=0.3.74 in /usr/local/lib/python3.12/dist-packages (from langchain_openai) (0.3.74)\n",
      "Requirement already satisfied: tiktoken<1,>=0.7 in /usr/local/lib/python3.12/dist-packages (from langchain_openai) (0.11.0)\n",
      "Requirement already satisfied: anyio<5,>=3.5.0 in /usr/local/lib/python3.12/dist-packages (from openai) (4.10.0)\n",
      "Requirement already satisfied: distro<2,>=1.7.0 in /usr/local/lib/python3.12/dist-packages (from openai) (1.9.0)\n",
      "Requirement already satisfied: httpx<1,>=0.23.0 in /usr/local/lib/python3.12/dist-packages (from openai) (0.28.1)\n",
      "Requirement already satisfied: jiter<1,>=0.4.0 in /usr/local/lib/python3.12/dist-packages (from openai) (0.10.0)\n",
      "Requirement already satisfied: pydantic<3,>=1.9.0 in /usr/local/lib/python3.12/dist-packages (from openai) (2.11.7)\n",
      "Requirement already satisfied: sniffio in /usr/local/lib/python3.12/dist-packages (from openai) (1.3.1)\n",
      "Requirement already satisfied: tqdm>4 in /usr/local/lib/python3.12/dist-packages (from openai) (4.67.1)\n",
      "Requirement already satisfied: typing-extensions<5,>=4.11 in /usr/local/lib/python3.12/dist-packages (from openai) (4.15.0)\n",
      "Requirement already satisfied: langchain-text-splitters<1.0.0,>=0.3.9 in /usr/local/lib/python3.12/dist-packages (from langchain) (0.3.9)\n",
      "Requirement already satisfied: langsmith>=0.1.17 in /usr/local/lib/python3.12/dist-packages (from langchain) (0.4.16)\n",
      "Requirement already satisfied: SQLAlchemy<3,>=1.4 in /usr/local/lib/python3.12/dist-packages (from langchain) (2.0.43)\n",
      "Requirement already satisfied: requests<3,>=2 in /usr/local/lib/python3.12/dist-packages (from langchain) (2.32.4)\n",
      "Requirement already satisfied: PyYAML>=5.3 in /usr/local/lib/python3.12/dist-packages (from langchain) (6.0.2)\n",
      "Requirement already satisfied: idna>=2.8 in /usr/local/lib/python3.12/dist-packages (from anyio<5,>=3.5.0->openai) (3.10)\n",
      "Requirement already satisfied: certifi in /usr/local/lib/python3.12/dist-packages (from httpx<1,>=0.23.0->openai) (2025.8.3)\n",
      "Requirement already satisfied: httpcore==1.* in /usr/local/lib/python3.12/dist-packages (from httpx<1,>=0.23.0->openai) (1.0.9)\n",
      "Requirement already satisfied: h11>=0.16 in /usr/local/lib/python3.12/dist-packages (from httpcore==1.*->httpx<1,>=0.23.0->openai) (0.16.0)\n",
      "Requirement already satisfied: tenacity!=8.4.0,<10.0.0,>=8.1.0 in /usr/local/lib/python3.12/dist-packages (from langchain-core<1.0.0,>=0.3.74->langchain_openai) (8.5.0)\n",
      "Requirement already satisfied: jsonpatch<2.0,>=1.33 in /usr/local/lib/python3.12/dist-packages (from langchain-core<1.0.0,>=0.3.74->langchain_openai) (1.33)\n",
      "Requirement already satisfied: packaging>=23.2 in /usr/local/lib/python3.12/dist-packages (from langchain-core<1.0.0,>=0.3.74->langchain_openai) (25.0)\n",
      "Requirement already satisfied: orjson>=3.9.14 in /usr/local/lib/python3.12/dist-packages (from langsmith>=0.1.17->langchain) (3.11.2)\n",
      "Requirement already satisfied: requests-toolbelt>=1.0.0 in /usr/local/lib/python3.12/dist-packages (from langsmith>=0.1.17->langchain) (1.0.0)\n",
      "Requirement already satisfied: zstandard>=0.23.0 in /usr/local/lib/python3.12/dist-packages (from langsmith>=0.1.17->langchain) (0.24.0)\n",
      "Requirement already satisfied: annotated-types>=0.6.0 in /usr/local/lib/python3.12/dist-packages (from pydantic<3,>=1.9.0->openai) (0.7.0)\n",
      "Requirement already satisfied: pydantic-core==2.33.2 in /usr/local/lib/python3.12/dist-packages (from pydantic<3,>=1.9.0->openai) (2.33.2)\n",
      "Requirement already satisfied: typing-inspection>=0.4.0 in /usr/local/lib/python3.12/dist-packages (from pydantic<3,>=1.9.0->openai) (0.4.1)\n",
      "Requirement already satisfied: charset_normalizer<4,>=2 in /usr/local/lib/python3.12/dist-packages (from requests<3,>=2->langchain) (3.4.3)\n",
      "Requirement already satisfied: urllib3<3,>=1.21.1 in /usr/local/lib/python3.12/dist-packages (from requests<3,>=2->langchain) (2.5.0)\n",
      "Requirement already satisfied: greenlet>=1 in /usr/local/lib/python3.12/dist-packages (from SQLAlchemy<3,>=1.4->langchain) (3.2.4)\n",
      "Requirement already satisfied: regex>=2022.1.18 in /usr/local/lib/python3.12/dist-packages (from tiktoken<1,>=0.7->langchain_openai) (2024.11.6)\n",
      "Requirement already satisfied: jsonpointer>=1.9 in /usr/local/lib/python3.12/dist-packages (from jsonpatch<2.0,>=1.33->langchain-core<1.0.0,>=0.3.74->langchain_openai) (3.0.0)\n"
     ]
    }
   ],
   "source": [
    "!pip install langchain_openai openai langchain"
   ]
  },
  {
   "cell_type": "code",
   "execution_count": null,
   "metadata": {
    "executionInfo": {
     "elapsed": 15,
     "status": "ok",
     "timestamp": 1756968028003,
     "user": {
      "displayName": "Gourav Gourav",
      "userId": "08092028497578921536"
     },
     "user_tz": -330
    },
    "id": "5NKS3OhHcYQA"
   },
   "outputs": [],
   "source": [
    "  from langchain_openai import ChatOpenAI\n",
    "  from langchain_core.tools import tool\n",
    "  from langchain_core.messages import HumanMessage\n",
    "  from dotenv import load_dotenv\n",
    "  import requests"
   ]
  },
  {
   "cell_type": "code",
   "execution_count": null,
   "metadata": {},
   "outputs": [],
   "source": [
    "load_dotenv()"
   ]
  },
  {
   "cell_type": "code",
   "execution_count": 8,
   "metadata": {
    "executionInfo": {
     "elapsed": 15,
     "status": "ok",
     "timestamp": 1756968094906,
     "user": {
      "displayName": "Gourav Gourav",
      "userId": "08092028497578921536"
     },
     "user_tz": -330
    },
    "id": "MMcmbUfqcxqo"
   },
   "outputs": [],
   "source": [
    "# tool create\n",
    "@tool\n",
    "def multiply(a:int,b:int)->int:\n",
    "  \"\"\"Given two numbers a and b this tool return theri product\"\"\"\n",
    "  return a*b"
   ]
  },
  {
   "cell_type": "code",
   "execution_count": 9,
   "metadata": {
    "colab": {
     "base_uri": "https://localhost:8080/"
    },
    "executionInfo": {
     "elapsed": 47,
     "status": "ok",
     "timestamp": 1756968129736,
     "user": {
      "displayName": "Gourav Gourav",
      "userId": "08092028497578921536"
     },
     "user_tz": -330
    },
    "id": "OtXSCOdWdYt0",
    "outputId": "d6522041-d493-4371-df2e-a7135a6a7050"
   },
   "outputs": [
    {
     "data": {
      "text/plain": [
       "40"
      ]
     },
     "execution_count": 9,
     "metadata": {},
     "output_type": "execute_result"
    }
   ],
   "source": [
    "multiply.invoke({\"a\":2,\"b\":20})"
   ]
  },
  {
   "cell_type": "code",
   "execution_count": 10,
   "metadata": {
    "colab": {
     "base_uri": "https://localhost:8080/",
     "height": 35
    },
    "executionInfo": {
     "elapsed": 25,
     "status": "ok",
     "timestamp": 1756968138567,
     "user": {
      "displayName": "Gourav Gourav",
      "userId": "08092028497578921536"
     },
     "user_tz": -330
    },
    "id": "jiqXyQQ6dhNs",
    "outputId": "815d90c7-e065-4338-9a14-1e742823b82e"
   },
   "outputs": [
    {
     "data": {
      "application/vnd.google.colaboratory.intrinsic+json": {
       "type": "string"
      },
      "text/plain": [
       "'multiply'"
      ]
     },
     "execution_count": 10,
     "metadata": {},
     "output_type": "execute_result"
    }
   ],
   "source": [
    "multiply.name"
   ]
  },
  {
   "cell_type": "code",
   "execution_count": 11,
   "metadata": {
    "colab": {
     "base_uri": "https://localhost:8080/",
     "height": 35
    },
    "executionInfo": {
     "elapsed": 28,
     "status": "ok",
     "timestamp": 1756968146292,
     "user": {
      "displayName": "Gourav Gourav",
      "userId": "08092028497578921536"
     },
     "user_tz": -330
    },
    "id": "xpYuIpjxdjXU",
    "outputId": "c640bc00-4ee5-4c6b-dfb5-b9c7f8569b48"
   },
   "outputs": [
    {
     "data": {
      "application/vnd.google.colaboratory.intrinsic+json": {
       "type": "string"
      },
      "text/plain": [
       "'Given two numbers a and b this tool return theri product'"
      ]
     },
     "execution_count": 11,
     "metadata": {},
     "output_type": "execute_result"
    }
   ],
   "source": [
    "multiply.description"
   ]
  },
  {
   "cell_type": "code",
   "execution_count": 12,
   "metadata": {
    "colab": {
     "base_uri": "https://localhost:8080/"
    },
    "executionInfo": {
     "elapsed": 13,
     "status": "ok",
     "timestamp": 1756968152731,
     "user": {
      "displayName": "Gourav Gourav",
      "userId": "08092028497578921536"
     },
     "user_tz": -330
    },
    "id": "XgHLDxQ7dlQv",
    "outputId": "c95b9082-c032-4e44-b949-f5498d5fc954"
   },
   "outputs": [
    {
     "data": {
      "text/plain": [
       "{'a': {'title': 'A', 'type': 'integer'},\n",
       " 'b': {'title': 'B', 'type': 'integer'}}"
      ]
     },
     "execution_count": 12,
     "metadata": {},
     "output_type": "execute_result"
    }
   ],
   "source": [
    "multiply.args"
   ]
  },
  {
   "cell_type": "code",
   "execution_count": 13,
   "metadata": {
    "colab": {
     "base_uri": "https://localhost:8080/",
     "height": 121
    },
    "executionInfo": {
     "elapsed": 27,
     "status": "ok",
     "timestamp": 1756968158432,
     "user": {
      "displayName": "Gourav Gourav",
      "userId": "08092028497578921536"
     },
     "user_tz": -330
    },
    "id": "GBYBGmiWdm1d",
    "outputId": "b90adfcd-c059-410d-ac97-ba36eb7738ac"
   },
   "outputs": [
    {
     "data": {
      "text/html": [
       "<div style=\"max-width:800px; border: 1px solid var(--colab-border-color);\"><style>\n",
       "      pre.function-repr-contents {\n",
       "        overflow-x: auto;\n",
       "        padding: 8px 12px;\n",
       "        max-height: 500px;\n",
       "      }\n",
       "\n",
       "      pre.function-repr-contents.function-repr-contents-collapsed {\n",
       "        cursor: pointer;\n",
       "        max-height: 100px;\n",
       "      }\n",
       "    </style>\n",
       "    <pre style=\"white-space: initial; background:\n",
       "         var(--colab-secondary-surface-color); padding: 8px 12px;\n",
       "         border-bottom: 1px solid var(--colab-border-color);\"><b>langchain_core.utils.pydantic.multiply</b><br/>def __init__(self, /, **data: Any) -&gt; None</pre><pre class=\"function-repr-contents function-repr-contents-collapsed\" style=\"\"><a class=\"filepath\" style=\"display:none\" href=\"#\">/usr/local/lib/python3.12/dist-packages/langchain_core/utils/pydantic.py</a>Given two numbers a and b this tool return theri product</pre>\n",
       "      <script>\n",
       "      if (google.colab.kernel.accessAllowed && google.colab.files && google.colab.files.view) {\n",
       "        for (const element of document.querySelectorAll('.filepath')) {\n",
       "          element.style.display = 'block'\n",
       "          element.onclick = (event) => {\n",
       "            event.preventDefault();\n",
       "            event.stopPropagation();\n",
       "            google.colab.files.view(element.textContent, None);\n",
       "          };\n",
       "        }\n",
       "      }\n",
       "      for (const element of document.querySelectorAll('.function-repr-contents')) {\n",
       "        element.onclick = (event) => {\n",
       "          event.preventDefault();\n",
       "          event.stopPropagation();\n",
       "          element.classList.toggle('function-repr-contents-collapsed');\n",
       "        };\n",
       "      }\n",
       "      </script>\n",
       "      </div>"
      ],
      "text/plain": [
       "langchain_core.utils.pydantic.multiply"
      ]
     },
     "execution_count": 13,
     "metadata": {},
     "output_type": "execute_result"
    }
   ],
   "source": [
    "multiply.args_schema"
   ]
  },
  {
   "cell_type": "code",
   "execution_count": 14,
   "metadata": {
    "executionInfo": {
     "elapsed": 1062,
     "status": "ok",
     "timestamp": 1756968185445,
     "user": {
      "displayName": "Gourav Gourav",
      "userId": "08092028497578921536"
     },
     "user_tz": -330
    },
    "id": "u34PlSizdoOk"
   },
   "outputs": [],
   "source": [
    "#tool binding\n",
    "\n",
    "llm = ChatOpenAI()"
   ]
  },
  {
   "cell_type": "code",
   "execution_count": 16,
   "metadata": {
    "executionInfo": {
     "elapsed": 14,
     "status": "ok",
     "timestamp": 1756968222871,
     "user": {
      "displayName": "Gourav Gourav",
      "userId": "08092028497578921536"
     },
     "user_tz": -330
    },
    "id": "108UAQtVdukU"
   },
   "outputs": [],
   "source": [
    "llm_with_tools = llm.bind_tools([multiply]) # can bind multiple tools in list"
   ]
  },
  {
   "cell_type": "code",
   "execution_count": 17,
   "metadata": {
    "colab": {
     "base_uri": "https://localhost:8080/"
    },
    "executionInfo": {
     "elapsed": 26,
     "status": "ok",
     "timestamp": 1756968229162,
     "user": {
      "displayName": "Gourav Gourav",
      "userId": "08092028497578921536"
     },
     "user_tz": -330
    },
    "id": "GoC-OLrOd0PE",
    "outputId": "ffd29b56-6789-43dd-8653-799870899c44"
   },
   "outputs": [
    {
     "data": {
      "text/plain": [
       "RunnableBinding(bound=ChatOpenAI(client=<openai.resources.chat.completions.completions.Completions object at 0x797a5b14c7d0>, async_client=<openai.resources.chat.completions.completions.AsyncCompletions object at 0x797a5ad14920>, root_client=<openai.OpenAI object at 0x797a5b14cb30>, root_async_client=<openai.AsyncOpenAI object at 0x797a5b13db80>, model_kwargs={}, openai_api_key=SecretStr('**********')), kwargs={'tools': [{'type': 'function', 'function': {'name': 'multiply', 'description': 'Given two numbers a and b this tool return theri product', 'parameters': {'properties': {'a': {'type': 'integer'}, 'b': {'type': 'integer'}}, 'required': ['a', 'b'], 'type': 'object'}}}]}, config={}, config_factories=[])"
      ]
     },
     "execution_count": 17,
     "metadata": {},
     "output_type": "execute_result"
    }
   ],
   "source": [
    "llm_with_tools"
   ]
  },
  {
   "cell_type": "code",
   "execution_count": 23,
   "metadata": {
    "colab": {
     "base_uri": "https://localhost:8080/"
    },
    "executionInfo": {
     "elapsed": 986,
     "status": "ok",
     "timestamp": 1756968775364,
     "user": {
      "displayName": "Gourav Gourav",
      "userId": "08092028497578921536"
     },
     "user_tz": -330
    },
    "id": "1s1hsOGPf4M6",
    "outputId": "a0d3cea8-1197-46b9-fea4-a69b490185d3"
   },
   "outputs": [
    {
     "data": {
      "text/plain": [
       "AIMessage(content='I\\'m not sure which \"Virat\" you are referring to. There are a few well-known individuals named Virat, such as Virat Kohli (Indian cricketer) or Virat Kholi (Bollywood actor). \\n\\nIf you have a specific Virat in mind or if you are referring to someone else, please provide more context so I can assist you better.', additional_kwargs={'refusal': None}, response_metadata={'token_usage': {'completion_tokens': 79, 'prompt_tokens': 58, 'total_tokens': 137, 'completion_tokens_details': {'accepted_prediction_tokens': 0, 'audio_tokens': 0, 'reasoning_tokens': 0, 'rejected_prediction_tokens': 0}, 'prompt_tokens_details': {'audio_tokens': 0, 'cached_tokens': 0}}, 'model_name': 'gpt-3.5-turbo-0125', 'system_fingerprint': None, 'id': 'chatcmpl-CBy7ytkCdfCWsbFZtimxI01CEOKqc', 'service_tier': 'default', 'finish_reason': 'stop', 'logprobs': None}, id='run--f02d954f-0266-4e71-9b33-87ace786fc7e-0', usage_metadata={'input_tokens': 58, 'output_tokens': 79, 'total_tokens': 137, 'input_token_details': {'audio': 0, 'cache_read': 0}, 'output_token_details': {'audio': 0, 'reasoning': 0}})"
      ]
     },
     "execution_count": 23,
     "metadata": {},
     "output_type": "execute_result"
    }
   ],
   "source": [
    "llm_with_tools.invoke(\"who is virat\")\n"
   ]
  },
  {
   "cell_type": "code",
   "execution_count": 24,
   "metadata": {
    "colab": {
     "base_uri": "https://localhost:8080/"
    },
    "executionInfo": {
     "elapsed": 1186,
     "status": "ok",
     "timestamp": 1756968871135,
     "user": {
      "displayName": "Gourav Gourav",
      "userId": "08092028497578921536"
     },
     "user_tz": -330
    },
    "id": "yOzOxdzWd5fz",
    "outputId": "e54d0292-9e61-41ac-db20-9a415a36eedc"
   },
   "outputs": [
    {
     "data": {
      "text/plain": [
       "AIMessage(content='', additional_kwargs={'tool_calls': [{'id': 'call_v0s4IOvgV0VN7DOBrvHtIjVA', 'function': {'arguments': '{\"a\":4,\"b\":7}', 'name': 'multiply'}, 'type': 'function'}], 'refusal': None}, response_metadata={'token_usage': {'completion_tokens': 17, 'prompt_tokens': 62, 'total_tokens': 79, 'completion_tokens_details': {'accepted_prediction_tokens': 0, 'audio_tokens': 0, 'reasoning_tokens': 0, 'rejected_prediction_tokens': 0}, 'prompt_tokens_details': {'audio_tokens': 0, 'cached_tokens': 0}}, 'model_name': 'gpt-3.5-turbo-0125', 'system_fingerprint': None, 'id': 'chatcmpl-CBy9W8b3WNcTxqSh071x9cjYLG4kz', 'service_tier': 'default', 'finish_reason': 'tool_calls', 'logprobs': None}, id='run--ed7c90db-ccf3-4397-88e4-621f8e80e43e-0', tool_calls=[{'name': 'multiply', 'args': {'a': 4, 'b': 7}, 'id': 'call_v0s4IOvgV0VN7DOBrvHtIjVA', 'type': 'tool_call'}], usage_metadata={'input_tokens': 62, 'output_tokens': 17, 'total_tokens': 79, 'input_token_details': {'audio': 0, 'cache_read': 0}, 'output_token_details': {'audio': 0, 'reasoning': 0}})"
      ]
     },
     "execution_count": 24,
     "metadata": {},
     "output_type": "execute_result"
    }
   ],
   "source": [
    "llm_with_tools.invoke(\"what is 4 multiply to 7\")"
   ]
  },
  {
   "cell_type": "code",
   "execution_count": 25,
   "metadata": {
    "colab": {
     "base_uri": "https://localhost:8080/"
    },
    "executionInfo": {
     "elapsed": 709,
     "status": "ok",
     "timestamp": 1756968903643,
     "user": {
      "displayName": "Gourav Gourav",
      "userId": "08092028497578921536"
     },
     "user_tz": -330
    },
    "id": "w4SmE8fkfVa9",
    "outputId": "1db3ed25-7bfb-48b0-aa08-294d29f56308"
   },
   "outputs": [
    {
     "data": {
      "text/plain": [
       "[{'name': 'multiply',\n",
       "  'args': {'a': 4, 'b': 7},\n",
       "  'id': 'call_tl2ZNKWkteMo85SvWRYwDHfo',\n",
       "  'type': 'tool_call'}]"
      ]
     },
     "execution_count": 25,
     "metadata": {},
     "output_type": "execute_result"
    }
   ],
   "source": [
    "llm_with_tools.invoke(\"what is 4 multiply to 7\").tool_calls"
   ]
  },
  {
   "cell_type": "code",
   "execution_count": 27,
   "metadata": {
    "colab": {
     "base_uri": "https://localhost:8080/"
    },
    "executionInfo": {
     "elapsed": 1119,
     "status": "ok",
     "timestamp": 1756969381768,
     "user": {
      "displayName": "Gourav Gourav",
      "userId": "08092028497578921536"
     },
     "user_tz": -330
    },
    "id": "4RxDSVXogd_r",
    "outputId": "af6b90bf-1336-42d8-ad8b-5145d03df327"
   },
   "outputs": [
    {
     "data": {
      "text/plain": [
       "{'name': 'multiply',\n",
       " 'args': {'a': 4, 'b': 7},\n",
       " 'id': 'call_79tpKPYFEihsSf9cFteWOUSS',\n",
       " 'type': 'tool_call'}"
      ]
     },
     "execution_count": 27,
     "metadata": {},
     "output_type": "execute_result"
    }
   ],
   "source": [
    "result = llm_with_tools.invoke(\"what is 4 multiply to 7\").tool_calls[0] #llm onlysuggest tools not execute them\n",
    "result"
   ]
  },
  {
   "cell_type": "code",
   "execution_count": 29,
   "metadata": {
    "colab": {
     "base_uri": "https://localhost:8080/"
    },
    "executionInfo": {
     "elapsed": 27,
     "status": "ok",
     "timestamp": 1756969398137,
     "user": {
      "displayName": "Gourav Gourav",
      "userId": "08092028497578921536"
     },
     "user_tz": -330
    },
    "id": "1JqkmPIRgiz8",
    "outputId": "271654b2-bdc7-4ab2-f9e4-3ced30777d7b"
   },
   "outputs": [
    {
     "data": {
      "text/plain": [
       "28"
      ]
     },
     "execution_count": 29,
     "metadata": {},
     "output_type": "execute_result"
    }
   ],
   "source": [
    "multiply.invoke(result['args'])"
   ]
  },
  {
   "cell_type": "code",
   "execution_count": 30,
   "metadata": {
    "colab": {
     "base_uri": "https://localhost:8080/"
    },
    "executionInfo": {
     "elapsed": 29,
     "status": "ok",
     "timestamp": 1756969446861,
     "user": {
      "displayName": "Gourav Gourav",
      "userId": "08092028497578921536"
     },
     "user_tz": -330
    },
    "id": "EiAXyh24iUyu",
    "outputId": "65a614f3-0716-47b7-dcb6-8a74efef82a5"
   },
   "outputs": [
    {
     "data": {
      "text/plain": [
       "ToolMessage(content='28', name='multiply', tool_call_id='call_79tpKPYFEihsSf9cFteWOUSS')"
      ]
     },
     "execution_count": 30,
     "metadata": {},
     "output_type": "execute_result"
    }
   ],
   "source": [
    "multiply.invoke(result)"
   ]
  },
  {
   "cell_type": "code",
   "execution_count": 45,
   "metadata": {
    "executionInfo": {
     "elapsed": 44,
     "status": "ok",
     "timestamp": 1756971019442,
     "user": {
      "displayName": "Gourav Gourav",
      "userId": "08092028497578921536"
     },
     "user_tz": -330
    },
    "id": "CRY1s8U6iix9"
   },
   "outputs": [],
   "source": [
    "query = HumanMessage(\"what is 2*5\")\n",
    "messages = [query]"
   ]
  },
  {
   "cell_type": "code",
   "execution_count": 46,
   "metadata": {
    "colab": {
     "base_uri": "https://localhost:8080/"
    },
    "executionInfo": {
     "elapsed": 485,
     "status": "ok",
     "timestamp": 1756971020695,
     "user": {
      "displayName": "Gourav Gourav",
      "userId": "08092028497578921536"
     },
     "user_tz": -330
    },
    "id": "mp6FnT0-l2ex",
    "outputId": "3e57c39a-3ac5-4baa-e549-38334bfa4c2e"
   },
   "outputs": [
    {
     "data": {
      "text/plain": [
       "AIMessage(content='', additional_kwargs={'tool_calls': [{'id': 'call_Yvhs5RYBWlCx41cO7jz6Y77x', 'function': {'arguments': '{\"a\":2,\"b\":5}', 'name': 'multiply'}, 'type': 'function'}], 'refusal': None}, response_metadata={'token_usage': {'completion_tokens': 17, 'prompt_tokens': 60, 'total_tokens': 77, 'completion_tokens_details': {'accepted_prediction_tokens': 0, 'audio_tokens': 0, 'reasoning_tokens': 0, 'rejected_prediction_tokens': 0}, 'prompt_tokens_details': {'audio_tokens': 0, 'cached_tokens': 0}}, 'model_name': 'gpt-3.5-turbo-0125', 'system_fingerprint': None, 'id': 'chatcmpl-CByiCqJXdXEHcyWTMPwWrz9Bxuh8c', 'service_tier': 'default', 'finish_reason': 'tool_calls', 'logprobs': None}, id='run--b015f1d4-291a-4e7f-8cf2-24ade609d57e-0', tool_calls=[{'name': 'multiply', 'args': {'a': 2, 'b': 5}, 'id': 'call_Yvhs5RYBWlCx41cO7jz6Y77x', 'type': 'tool_call'}], usage_metadata={'input_tokens': 60, 'output_tokens': 17, 'total_tokens': 77, 'input_token_details': {'audio': 0, 'cache_read': 0}, 'output_token_details': {'audio': 0, 'reasoning': 0}})"
      ]
     },
     "execution_count": 46,
     "metadata": {},
     "output_type": "execute_result"
    }
   ],
   "source": [
    "tool_calling_result = llm_with_tools.invoke(messages)\n",
    "tool_calling_result"
   ]
  },
  {
   "cell_type": "code",
   "execution_count": 47,
   "metadata": {
    "executionInfo": {
     "elapsed": 4,
     "status": "ok",
     "timestamp": 1756971022680,
     "user": {
      "displayName": "Gourav Gourav",
      "userId": "08092028497578921536"
     },
     "user_tz": -330
    },
    "id": "aUeltpT9mKhy"
   },
   "outputs": [],
   "source": [
    "messages.append(tool_calling_result)"
   ]
  },
  {
   "cell_type": "code",
   "execution_count": 48,
   "metadata": {
    "colab": {
     "base_uri": "https://localhost:8080/"
    },
    "executionInfo": {
     "elapsed": 26,
     "status": "ok",
     "timestamp": 1756971023510,
     "user": {
      "displayName": "Gourav Gourav",
      "userId": "08092028497578921536"
     },
     "user_tz": -330
    },
    "id": "G5Hz2oS_mPHH",
    "outputId": "465518d8-0445-444c-9454-36867216f21a"
   },
   "outputs": [
    {
     "data": {
      "text/plain": [
       "ToolMessage(content='10', name='multiply', tool_call_id='call_Yvhs5RYBWlCx41cO7jz6Y77x')"
      ]
     },
     "execution_count": 48,
     "metadata": {},
     "output_type": "execute_result"
    }
   ],
   "source": [
    "tool_execution_result = multiply.invoke(tool_calling_result.tool_calls[0])\n",
    "tool_execution_result"
   ]
  },
  {
   "cell_type": "code",
   "execution_count": 49,
   "metadata": {
    "executionInfo": {
     "elapsed": 11,
     "status": "ok",
     "timestamp": 1756971025278,
     "user": {
      "displayName": "Gourav Gourav",
      "userId": "08092028497578921536"
     },
     "user_tz": -330
    },
    "id": "UP4a0FaCmY2r"
   },
   "outputs": [],
   "source": [
    "messages.append(tool_execution_result)"
   ]
  },
  {
   "cell_type": "code",
   "execution_count": 50,
   "metadata": {
    "colab": {
     "base_uri": "https://localhost:8080/"
    },
    "executionInfo": {
     "elapsed": 1813,
     "status": "ok",
     "timestamp": 1756971027863,
     "user": {
      "displayName": "Gourav Gourav",
      "userId": "08092028497578921536"
     },
     "user_tz": -330
    },
    "id": "NQSm22mvmbpL",
    "outputId": "b7f86a33-d148-4675-dbc5-5afbd8b37631"
   },
   "outputs": [
    {
     "data": {
      "text/plain": [
       "AIMessage(content='The product of 2 and 5 is 10.', additional_kwargs={'refusal': None}, response_metadata={'token_usage': {'completion_tokens': 13, 'prompt_tokens': 85, 'total_tokens': 98, 'completion_tokens_details': {'accepted_prediction_tokens': 0, 'audio_tokens': 0, 'reasoning_tokens': 0, 'rejected_prediction_tokens': 0}, 'prompt_tokens_details': {'audio_tokens': 0, 'cached_tokens': 0}}, 'model_name': 'gpt-3.5-turbo-0125', 'system_fingerprint': None, 'id': 'chatcmpl-CByiJCNS0dxnAHzM5pfzL0HGR5OrG', 'service_tier': 'default', 'finish_reason': 'stop', 'logprobs': None}, id='run--37114ab6-56aa-4595-8055-bad69905a482-0', usage_metadata={'input_tokens': 85, 'output_tokens': 13, 'total_tokens': 98, 'input_token_details': {'audio': 0, 'cache_read': 0}, 'output_token_details': {'audio': 0, 'reasoning': 0}})"
      ]
     },
     "execution_count": 50,
     "metadata": {},
     "output_type": "execute_result"
    }
   ],
   "source": [
    "llm_with_tools.invoke(messages)"
   ]
  },
  {
   "cell_type": "code",
   "execution_count": 51,
   "metadata": {
    "colab": {
     "base_uri": "https://localhost:8080/",
     "height": 35
    },
    "executionInfo": {
     "elapsed": 1354,
     "status": "ok",
     "timestamp": 1756971031602,
     "user": {
      "displayName": "Gourav Gourav",
      "userId": "08092028497578921536"
     },
     "user_tz": -330
    },
    "id": "upsrpc71mgzp",
    "outputId": "72dbd592-ec6c-4278-a25a-f0415a23d3cf"
   },
   "outputs": [
    {
     "data": {
      "application/vnd.google.colaboratory.intrinsic+json": {
       "type": "string"
      },
      "text/plain": [
       "'The product of 2 and 5 is 10.'"
      ]
     },
     "execution_count": 51,
     "metadata": {},
     "output_type": "execute_result"
    }
   ],
   "source": [
    "llm_with_tools.invoke(messages).content"
   ]
  },
  {
   "cell_type": "markdown",
   "metadata": {
    "id": "Wlx4IPqKoBBJ"
   },
   "source": [
    "# Currency Conversion"
   ]
  },
  {
   "cell_type": "code",
   "execution_count": 3,
   "metadata": {
    "colab": {
     "base_uri": "https://localhost:8080/"
    },
    "executionInfo": {
     "elapsed": 12339,
     "status": "ok",
     "timestamp": 1756977209034,
     "user": {
      "displayName": "Gourav Gourav",
      "userId": "08092028497578921536"
     },
     "user_tz": -330
    },
    "id": "DQ7f0OGzADGX",
    "outputId": "56376a2e-3a7e-4b56-eb37-1f925d34cc60"
   },
   "outputs": [
    {
     "name": "stdout",
     "output_type": "stream",
     "text": [
      "Requirement already satisfied: langchain in /usr/local/lib/python3.12/dist-packages (0.3.27)\n",
      "Collecting langchain_openai\n",
      "  Downloading langchain_openai-0.3.32-py3-none-any.whl.metadata (2.4 kB)\n",
      "Requirement already satisfied: openai in /usr/local/lib/python3.12/dist-packages (1.101.0)\n",
      "Requirement already satisfied: langchain-core<1.0.0,>=0.3.72 in /usr/local/lib/python3.12/dist-packages (from langchain) (0.3.74)\n",
      "Requirement already satisfied: langchain-text-splitters<1.0.0,>=0.3.9 in /usr/local/lib/python3.12/dist-packages (from langchain) (0.3.9)\n",
      "Requirement already satisfied: langsmith>=0.1.17 in /usr/local/lib/python3.12/dist-packages (from langchain) (0.4.16)\n",
      "Requirement already satisfied: pydantic<3.0.0,>=2.7.4 in /usr/local/lib/python3.12/dist-packages (from langchain) (2.11.7)\n",
      "Requirement already satisfied: SQLAlchemy<3,>=1.4 in /usr/local/lib/python3.12/dist-packages (from langchain) (2.0.43)\n",
      "Requirement already satisfied: requests<3,>=2 in /usr/local/lib/python3.12/dist-packages (from langchain) (2.32.4)\n",
      "Requirement already satisfied: PyYAML>=5.3 in /usr/local/lib/python3.12/dist-packages (from langchain) (6.0.2)\n",
      "Requirement already satisfied: tiktoken<1,>=0.7 in /usr/local/lib/python3.12/dist-packages (from langchain_openai) (0.11.0)\n",
      "Requirement already satisfied: anyio<5,>=3.5.0 in /usr/local/lib/python3.12/dist-packages (from openai) (4.10.0)\n",
      "Requirement already satisfied: distro<2,>=1.7.0 in /usr/local/lib/python3.12/dist-packages (from openai) (1.9.0)\n",
      "Requirement already satisfied: httpx<1,>=0.23.0 in /usr/local/lib/python3.12/dist-packages (from openai) (0.28.1)\n",
      "Requirement already satisfied: jiter<1,>=0.4.0 in /usr/local/lib/python3.12/dist-packages (from openai) (0.10.0)\n",
      "Requirement already satisfied: sniffio in /usr/local/lib/python3.12/dist-packages (from openai) (1.3.1)\n",
      "Requirement already satisfied: tqdm>4 in /usr/local/lib/python3.12/dist-packages (from openai) (4.67.1)\n",
      "Requirement already satisfied: typing-extensions<5,>=4.11 in /usr/local/lib/python3.12/dist-packages (from openai) (4.15.0)\n",
      "Requirement already satisfied: idna>=2.8 in /usr/local/lib/python3.12/dist-packages (from anyio<5,>=3.5.0->openai) (3.10)\n",
      "Requirement already satisfied: certifi in /usr/local/lib/python3.12/dist-packages (from httpx<1,>=0.23.0->openai) (2025.8.3)\n",
      "Requirement already satisfied: httpcore==1.* in /usr/local/lib/python3.12/dist-packages (from httpx<1,>=0.23.0->openai) (1.0.9)\n",
      "Requirement already satisfied: h11>=0.16 in /usr/local/lib/python3.12/dist-packages (from httpcore==1.*->httpx<1,>=0.23.0->openai) (0.16.0)\n",
      "Requirement already satisfied: tenacity!=8.4.0,<10.0.0,>=8.1.0 in /usr/local/lib/python3.12/dist-packages (from langchain-core<1.0.0,>=0.3.72->langchain) (8.5.0)\n",
      "Requirement already satisfied: jsonpatch<2.0,>=1.33 in /usr/local/lib/python3.12/dist-packages (from langchain-core<1.0.0,>=0.3.72->langchain) (1.33)\n",
      "Requirement already satisfied: packaging>=23.2 in /usr/local/lib/python3.12/dist-packages (from langchain-core<1.0.0,>=0.3.72->langchain) (25.0)\n",
      "Requirement already satisfied: orjson>=3.9.14 in /usr/local/lib/python3.12/dist-packages (from langsmith>=0.1.17->langchain) (3.11.2)\n",
      "Requirement already satisfied: requests-toolbelt>=1.0.0 in /usr/local/lib/python3.12/dist-packages (from langsmith>=0.1.17->langchain) (1.0.0)\n",
      "Requirement already satisfied: zstandard>=0.23.0 in /usr/local/lib/python3.12/dist-packages (from langsmith>=0.1.17->langchain) (0.24.0)\n",
      "Requirement already satisfied: annotated-types>=0.6.0 in /usr/local/lib/python3.12/dist-packages (from pydantic<3.0.0,>=2.7.4->langchain) (0.7.0)\n",
      "Requirement already satisfied: pydantic-core==2.33.2 in /usr/local/lib/python3.12/dist-packages (from pydantic<3.0.0,>=2.7.4->langchain) (2.33.2)\n",
      "Requirement already satisfied: typing-inspection>=0.4.0 in /usr/local/lib/python3.12/dist-packages (from pydantic<3.0.0,>=2.7.4->langchain) (0.4.1)\n",
      "Requirement already satisfied: charset_normalizer<4,>=2 in /usr/local/lib/python3.12/dist-packages (from requests<3,>=2->langchain) (3.4.3)\n",
      "Requirement already satisfied: urllib3<3,>=1.21.1 in /usr/local/lib/python3.12/dist-packages (from requests<3,>=2->langchain) (2.5.0)\n",
      "Requirement already satisfied: greenlet>=1 in /usr/local/lib/python3.12/dist-packages (from SQLAlchemy<3,>=1.4->langchain) (3.2.4)\n",
      "Requirement already satisfied: regex>=2022.1.18 in /usr/local/lib/python3.12/dist-packages (from tiktoken<1,>=0.7->langchain_openai) (2024.11.6)\n",
      "Requirement already satisfied: jsonpointer>=1.9 in /usr/local/lib/python3.12/dist-packages (from jsonpatch<2.0,>=1.33->langchain-core<1.0.0,>=0.3.72->langchain) (3.0.0)\n",
      "Downloading langchain_openai-0.3.32-py3-none-any.whl (74 kB)\n",
      "\u001b[2K   \u001b[90m━━━━━━━━━━━━━━━━━━━━━━━━━━━━━━━━━━━━━━━━\u001b[0m \u001b[32m74.5/74.5 kB\u001b[0m \u001b[31m3.3 MB/s\u001b[0m eta \u001b[36m0:00:00\u001b[0m\n",
      "\u001b[?25hInstalling collected packages: langchain_openai\n",
      "Successfully installed langchain_openai-0.3.32\n"
     ]
    }
   ],
   "source": [
    "!pip install langchain langchain_openai openai"
   ]
  },
  {
   "cell_type": "code",
   "execution_count": 95,
   "metadata": {
    "executionInfo": {
     "elapsed": 13,
     "status": "ok",
     "timestamp": 1756980191788,
     "user": {
      "displayName": "Gourav Gourav",
      "userId": "08092028497578921536"
     },
     "user_tz": -330
    },
    "id": "7xi6ZCHP_g88"
   },
   "outputs": [],
   "source": [
    "from langchain_openai import ChatOpenAI\n",
    "from langchain_core.tools import tool, InjectedToolArg\n",
    "from langchain_core.messages import HumanMessage\n",
    "from typing import Annotated\n",
    "import requests\n",
    "import json\n",
    "import os"
   ]
  },
  {
   "cell_type": "code",
   "execution_count": null,
   "metadata": {
    "executionInfo": {
     "elapsed": 12,
     "status": "ok",
     "timestamp": 1756980191956,
     "user": {
      "displayName": "Gourav Gourav",
      "userId": "08092028497578921536"
     },
     "user_tz": -330
    },
    "id": "Br3ngNKvALVv"
   },
   "outputs": [],
   "source": [
    "load_dotenv()"
   ]
  },
  {
   "cell_type": "code",
   "execution_count": 97,
   "metadata": {
    "executionInfo": {
     "elapsed": 160,
     "status": "ok",
     "timestamp": 1756980192301,
     "user": {
      "displayName": "Gourav Gourav",
      "userId": "08092028497578921536"
     },
     "user_tz": -330
    },
    "id": "UjH6WDTL51mu"
   },
   "outputs": [],
   "source": [
    "# tool create\n",
    "\n",
    "@tool\n",
    "def get_conversion_factor(base_currency:str,target_currency:str)->float:\n",
    "  \"\"\"\n",
    "  this function fetches the currency conversion factor between given base currency and target currency\n",
    "  \"\"\"\n",
    "\n",
    "  url = f\"https://v6.exchangerate-api.com/v6/219c490c71b6d9bcbdb2546b/pair/{base_currency}/{target_currency}\"\n",
    "\n",
    "  response = requests.get(url)\n",
    "\n",
    "  return response.json()\n",
    "\n",
    "\n",
    "@tool\n",
    "def convert(base_currency_value:int,conversion_rate: Annotated[float,InjectedToolArg])->float: # for not setting the value in tool calling developer will set value\n",
    "  \"\"\"\n",
    "  Given a currency conversion rate this function calculates the target currency value from the given base currency value\n",
    "  \"\"\"\n",
    "\n",
    "  return base_currency_value*conversion_rate\n"
   ]
  },
  {
   "cell_type": "code",
   "execution_count": 98,
   "metadata": {
    "colab": {
     "base_uri": "https://localhost:8080/"
    },
    "executionInfo": {
     "elapsed": 97,
     "status": "ok",
     "timestamp": 1756980192400,
     "user": {
      "displayName": "Gourav Gourav",
      "userId": "08092028497578921536"
     },
     "user_tz": -330
    },
    "id": "mc-FuwlA-9RE",
    "outputId": "b9712af1-799f-4c8d-802f-e34e53ab9070"
   },
   "outputs": [
    {
     "data": {
      "text/plain": [
       "{'result': 'success',\n",
       " 'documentation': 'https://www.exchangerate-api.com/docs',\n",
       " 'terms_of_use': 'https://www.exchangerate-api.com/terms',\n",
       " 'time_last_update_unix': 1756944001,\n",
       " 'time_last_update_utc': 'Thu, 04 Sep 2025 00:00:01 +0000',\n",
       " 'time_next_update_unix': 1757030401,\n",
       " 'time_next_update_utc': 'Fri, 05 Sep 2025 00:00:01 +0000',\n",
       " 'base_code': 'USD',\n",
       " 'target_code': 'INR',\n",
       " 'conversion_rate': 88.1044}"
      ]
     },
     "execution_count": 98,
     "metadata": {},
     "output_type": "execute_result"
    }
   ],
   "source": [
    "get_conversion_factor.invoke({\"base_currency\":'USD',\"target_currency\":'INR'})"
   ]
  },
  {
   "cell_type": "code",
   "execution_count": 99,
   "metadata": {
    "colab": {
     "base_uri": "https://localhost:8080/"
    },
    "executionInfo": {
     "elapsed": 4,
     "status": "ok",
     "timestamp": 1756980192577,
     "user": {
      "displayName": "Gourav Gourav",
      "userId": "08092028497578921536"
     },
     "user_tz": -330
    },
    "id": "gtHZRE_1AW2s",
    "outputId": "05cf68c2-f9c1-4817-a042-19bb33c3e407"
   },
   "outputs": [
    {
     "data": {
      "text/plain": [
       "881.044"
      ]
     },
     "execution_count": 99,
     "metadata": {},
     "output_type": "execute_result"
    }
   ],
   "source": [
    "convert.invoke({\"base_currency_value\":10,\"conversion_rate\":88.1044})"
   ]
  },
  {
   "cell_type": "code",
   "execution_count": 100,
   "metadata": {
    "executionInfo": {
     "elapsed": 9,
     "status": "ok",
     "timestamp": 1756980192612,
     "user": {
      "displayName": "Gourav Gourav",
      "userId": "08092028497578921536"
     },
     "user_tz": -330
    },
    "id": "q0sASES7BUFz"
   },
   "outputs": [],
   "source": [
    "# binding tool with llms\n",
    "llm = ChatOpenAI()\n",
    "llm_with_tools = llm.bind_tools([get_conversion_factor,convert])"
   ]
  },
  {
   "cell_type": "code",
   "execution_count": 101,
   "metadata": {
    "colab": {
     "base_uri": "https://localhost:8080/"
    },
    "executionInfo": {
     "elapsed": 33,
     "status": "ok",
     "timestamp": 1756980192776,
     "user": {
      "displayName": "Gourav Gourav",
      "userId": "08092028497578921536"
     },
     "user_tz": -330
    },
    "id": "7EF_PPoHBgHJ",
    "outputId": "e58532f6-c518-4aef-8ee7-cb219e6d4b96"
   },
   "outputs": [
    {
     "data": {
      "text/plain": [
       "[HumanMessage(content='What is the conversion factor between USD and INR, and based on that can you convert 10 USD to INR', additional_kwargs={}, response_metadata={})]"
      ]
     },
     "execution_count": 101,
     "metadata": {},
     "output_type": "execute_result"
    }
   ],
   "source": [
    "messages = [HumanMessage(\"What is the conversion factor between USD and INR, and based on that can you convert 10 USD to INR\")]\n",
    "messages"
   ]
  },
  {
   "cell_type": "code",
   "execution_count": 102,
   "metadata": {
    "colab": {
     "base_uri": "https://localhost:8080/"
    },
    "executionInfo": {
     "elapsed": 1682,
     "status": "ok",
     "timestamp": 1756980194603,
     "user": {
      "displayName": "Gourav Gourav",
      "userId": "08092028497578921536"
     },
     "user_tz": -330
    },
    "id": "n2JiDrxzB3Yu",
    "outputId": "24db7ec3-34c5-4b3d-826f-75b2a41f73f0"
   },
   "outputs": [
    {
     "data": {
      "text/plain": [
       "[HumanMessage(content='What is the conversion factor between USD and INR, and based on that can you convert 10 USD to INR', additional_kwargs={}, response_metadata={}),\n",
       " AIMessage(content='', additional_kwargs={'tool_calls': [{'id': 'call_9bYaERVe2gtFvZLsa9YjTiCh', 'function': {'arguments': '{\"base_currency\": \"USD\", \"target_currency\": \"INR\"}', 'name': 'get_conversion_factor'}, 'type': 'function'}, {'id': 'call_gAls0bYyGo9YUDjLXXJ5ud4G', 'function': {'arguments': '{\"base_currency_value\": 10}', 'name': 'convert'}, 'type': 'function'}], 'refusal': None}, response_metadata={'token_usage': {'completion_tokens': 52, 'prompt_tokens': 120, 'total_tokens': 172, 'completion_tokens_details': {'accepted_prediction_tokens': 0, 'audio_tokens': 0, 'reasoning_tokens': 0, 'rejected_prediction_tokens': 0}, 'prompt_tokens_details': {'audio_tokens': 0, 'cached_tokens': 0}}, 'model_name': 'gpt-3.5-turbo-0125', 'system_fingerprint': None, 'id': 'chatcmpl-CC169qULlG8SDRveObKg3ZW03EbIP', 'service_tier': 'default', 'finish_reason': 'tool_calls', 'logprobs': None}, id='run--534f8ab3-96ba-4de3-a1ea-ce70e922f0e5-0', tool_calls=[{'name': 'get_conversion_factor', 'args': {'base_currency': 'USD', 'target_currency': 'INR'}, 'id': 'call_9bYaERVe2gtFvZLsa9YjTiCh', 'type': 'tool_call'}, {'name': 'convert', 'args': {'base_currency_value': 10}, 'id': 'call_gAls0bYyGo9YUDjLXXJ5ud4G', 'type': 'tool_call'}], usage_metadata={'input_tokens': 120, 'output_tokens': 52, 'total_tokens': 172, 'input_token_details': {'audio': 0, 'cache_read': 0}, 'output_token_details': {'audio': 0, 'reasoning': 0}})]"
      ]
     },
     "execution_count": 102,
     "metadata": {},
     "output_type": "execute_result"
    }
   ],
   "source": [
    "tool_binding_message = llm_with_tools.invoke(messages)\n",
    "messages.append(tool_binding_message)\n",
    "messages\n"
   ]
  },
  {
   "cell_type": "code",
   "execution_count": 103,
   "metadata": {
    "colab": {
     "base_uri": "https://localhost:8080/"
    },
    "executionInfo": {
     "elapsed": 17,
     "status": "ok",
     "timestamp": 1756980194613,
     "user": {
      "displayName": "Gourav Gourav",
      "userId": "08092028497578921536"
     },
     "user_tz": -330
    },
    "id": "IcGgCdehCEOY",
    "outputId": "e200f145-28e2-4df3-a5b2-ddba5888f248"
   },
   "outputs": [
    {
     "data": {
      "text/plain": [
       "[{'name': 'get_conversion_factor',\n",
       "  'args': {'base_currency': 'USD', 'target_currency': 'INR'},\n",
       "  'id': 'call_9bYaERVe2gtFvZLsa9YjTiCh',\n",
       "  'type': 'tool_call'},\n",
       " {'name': 'convert',\n",
       "  'args': {'base_currency_value': 10},\n",
       "  'id': 'call_gAls0bYyGo9YUDjLXXJ5ud4G',\n",
       "  'type': 'tool_call'}]"
      ]
     },
     "execution_count": 103,
     "metadata": {},
     "output_type": "execute_result"
    }
   ],
   "source": [
    "tool_calls = tool_binding_message.tool_calls\n",
    "tool_calls"
   ]
  },
  {
   "cell_type": "code",
   "execution_count": 104,
   "metadata": {
    "colab": {
     "base_uri": "https://localhost:8080/"
    },
    "executionInfo": {
     "elapsed": 54,
     "status": "ok",
     "timestamp": 1756980194656,
     "user": {
      "displayName": "Gourav Gourav",
      "userId": "08092028497578921536"
     },
     "user_tz": -330
    },
    "id": "AJ7vxLH2CZJj",
    "outputId": "46cce123-7e03-4161-ad02-b47e3a571824"
   },
   "outputs": [
    {
     "name": "stdout",
     "output_type": "stream",
     "text": [
      "{'name': 'convert', 'args': {'base_currency_value': 10, 'conversion_rate': 88.1044}, 'id': 'call_gAls0bYyGo9YUDjLXXJ5ud4G', 'type': 'tool_call'}\n"
     ]
    }
   ],
   "source": [
    "for tool_call in tool_calls:\n",
    "  # execute the first tool and get the value of converion rate\n",
    "  if tool_call['name']=='get_conversion_factor':\n",
    "    execution_tool_message_1 = get_conversion_factor.invoke(tool_call)\n",
    "    # fetch conversion rate\n",
    "    conversion_rate = json.loads(execution_tool_message_1.content)['conversion_rate'] # converting json to python dict\n",
    "    # append tool message to messages\n",
    "    messages.append(execution_tool_message_1)\n",
    "\n",
    "  # calculate the second tool using the conversion rate from tool 1\n",
    "  if tool_call['name']=='convert':\n",
    "    #fetch the current argument\n",
    "\n",
    "    tool_call['args']['conversion_rate']  = conversion_rate\n",
    "    execution_tool_message_2 = convert.invoke(tool_call)\n",
    "    messages.append(execution_tool_message_2)\n",
    "\n"
   ]
  },
  {
   "cell_type": "code",
   "execution_count": 105,
   "metadata": {
    "colab": {
     "base_uri": "https://localhost:8080/"
    },
    "executionInfo": {
     "elapsed": 28,
     "status": "ok",
     "timestamp": 1756980196280,
     "user": {
      "displayName": "Gourav Gourav",
      "userId": "08092028497578921536"
     },
     "user_tz": -330
    },
    "id": "x598ZHEiFQ2c",
    "outputId": "1afc8d90-67d3-46f3-83d4-c2e075010033"
   },
   "outputs": [
    {
     "data": {
      "text/plain": [
       "[HumanMessage(content='What is the conversion factor between USD and INR, and based on that can you convert 10 USD to INR', additional_kwargs={}, response_metadata={}),\n",
       " AIMessage(content='', additional_kwargs={'tool_calls': [{'id': 'call_9bYaERVe2gtFvZLsa9YjTiCh', 'function': {'arguments': '{\"base_currency\": \"USD\", \"target_currency\": \"INR\"}', 'name': 'get_conversion_factor'}, 'type': 'function'}, {'id': 'call_gAls0bYyGo9YUDjLXXJ5ud4G', 'function': {'arguments': '{\"base_currency_value\": 10}', 'name': 'convert'}, 'type': 'function'}], 'refusal': None}, response_metadata={'token_usage': {'completion_tokens': 52, 'prompt_tokens': 120, 'total_tokens': 172, 'completion_tokens_details': {'accepted_prediction_tokens': 0, 'audio_tokens': 0, 'reasoning_tokens': 0, 'rejected_prediction_tokens': 0}, 'prompt_tokens_details': {'audio_tokens': 0, 'cached_tokens': 0}}, 'model_name': 'gpt-3.5-turbo-0125', 'system_fingerprint': None, 'id': 'chatcmpl-CC169qULlG8SDRveObKg3ZW03EbIP', 'service_tier': 'default', 'finish_reason': 'tool_calls', 'logprobs': None}, id='run--534f8ab3-96ba-4de3-a1ea-ce70e922f0e5-0', tool_calls=[{'name': 'get_conversion_factor', 'args': {'base_currency': 'USD', 'target_currency': 'INR'}, 'id': 'call_9bYaERVe2gtFvZLsa9YjTiCh', 'type': 'tool_call'}, {'name': 'convert', 'args': {'base_currency_value': 10, 'conversion_rate': 88.1044}, 'id': 'call_gAls0bYyGo9YUDjLXXJ5ud4G', 'type': 'tool_call'}], usage_metadata={'input_tokens': 120, 'output_tokens': 52, 'total_tokens': 172, 'input_token_details': {'audio': 0, 'cache_read': 0}, 'output_token_details': {'audio': 0, 'reasoning': 0}}),\n",
       " ToolMessage(content='{\"result\": \"success\", \"documentation\": \"https://www.exchangerate-api.com/docs\", \"terms_of_use\": \"https://www.exchangerate-api.com/terms\", \"time_last_update_unix\": 1756944001, \"time_last_update_utc\": \"Thu, 04 Sep 2025 00:00:01 +0000\", \"time_next_update_unix\": 1757030401, \"time_next_update_utc\": \"Fri, 05 Sep 2025 00:00:01 +0000\", \"base_code\": \"USD\", \"target_code\": \"INR\", \"conversion_rate\": 88.1044}', name='get_conversion_factor', tool_call_id='call_9bYaERVe2gtFvZLsa9YjTiCh'),\n",
       " ToolMessage(content='881.044', name='convert', tool_call_id='call_gAls0bYyGo9YUDjLXXJ5ud4G')]"
      ]
     },
     "execution_count": 105,
     "metadata": {},
     "output_type": "execute_result"
    }
   ],
   "source": [
    "messages"
   ]
  },
  {
   "cell_type": "code",
   "execution_count": 106,
   "metadata": {
    "colab": {
     "base_uri": "https://localhost:8080/"
    },
    "executionInfo": {
     "elapsed": 831,
     "status": "ok",
     "timestamp": 1756980307321,
     "user": {
      "displayName": "Gourav Gourav",
      "userId": "08092028497578921536"
     },
     "user_tz": -330
    },
    "id": "HYGplWrsKudQ",
    "outputId": "7a6f57fa-2f7e-4225-f6b1-2e40860b48bb"
   },
   "outputs": [
    {
     "data": {
      "text/plain": [
       "AIMessage(content='The conversion factor between USD and INR is 1 USD = 88.1044 INR. \\n\\nTherefore, 10 USD would be approximately equal to 881.04 INR.', additional_kwargs={'refusal': None}, response_metadata={'token_usage': {'completion_tokens': 39, 'prompt_tokens': 242, 'total_tokens': 281, 'completion_tokens_details': {'accepted_prediction_tokens': 0, 'audio_tokens': 0, 'reasoning_tokens': 0, 'rejected_prediction_tokens': 0}, 'prompt_tokens_details': {'audio_tokens': 0, 'cached_tokens': 0}}, 'model_name': 'gpt-3.5-turbo-0125', 'system_fingerprint': None, 'id': 'chatcmpl-CC17yIdnTjGbUtxWnu29jbbVNoJAw', 'service_tier': 'default', 'finish_reason': 'stop', 'logprobs': None}, id='run--20fffef2-07cc-4465-a59c-9f7bf40829ac-0', usage_metadata={'input_tokens': 242, 'output_tokens': 39, 'total_tokens': 281, 'input_token_details': {'audio': 0, 'cache_read': 0}, 'output_token_details': {'audio': 0, 'reasoning': 0}})"
      ]
     },
     "execution_count": 106,
     "metadata": {},
     "output_type": "execute_result"
    }
   ],
   "source": [
    "result = llm.invoke(messages)\n",
    "result"
   ]
  },
  {
   "cell_type": "code",
   "execution_count": 107,
   "metadata": {
    "colab": {
     "base_uri": "https://localhost:8080/",
     "height": 35
    },
    "executionInfo": {
     "elapsed": 26,
     "status": "ok",
     "timestamp": 1756980319399,
     "user": {
      "displayName": "Gourav Gourav",
      "userId": "08092028497578921536"
     },
     "user_tz": -330
    },
    "id": "Rw0ZtAwdL-By",
    "outputId": "3a0365cf-9372-4aa2-a2e2-7daa8a07572f"
   },
   "outputs": [
    {
     "data": {
      "application/vnd.google.colaboratory.intrinsic+json": {
       "type": "string"
      },
      "text/plain": [
       "'The conversion factor between USD and INR is 1 USD = 88.1044 INR. \\n\\nTherefore, 10 USD would be approximately equal to 881.04 INR.'"
      ]
     },
     "execution_count": 107,
     "metadata": {},
     "output_type": "execute_result"
    }
   ],
   "source": [
    "result.content"
   ]
  },
  {
   "cell_type": "code",
   "execution_count": null,
   "metadata": {
    "id": "2QUaaEv0MBJi"
   },
   "outputs": [],
   "source": []
  }
 ],
 "metadata": {
  "colab": {
   "authorship_tag": "ABX9TyOnS5gPpUAYa2SoIorYxwFj",
   "provenance": []
  },
  "kernelspec": {
   "display_name": "Python 3",
   "name": "python3"
  },
  "language_info": {
   "name": "python"
  }
 },
 "nbformat": 4,
 "nbformat_minor": 0
}
