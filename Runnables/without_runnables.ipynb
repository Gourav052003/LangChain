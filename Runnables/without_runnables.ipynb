{
 "cells": [
  {
   "cell_type": "code",
   "execution_count": 16,
   "id": "b97b4d8a",
   "metadata": {},
   "outputs": [],
   "source": [
    "import random\n",
    "\n",
    "class NakliLLM:\n",
    "    def __init__(self):\n",
    "        pass\n",
    "        \n",
    "    def predict(self,prompt):\n",
    "        response_list = [\n",
    "            \"Delhi is the capital of India.\",\n",
    "            \"IPL is a cricket league.\",\n",
    "            \"AI stands for Artificial Intelligence.\"\n",
    "        ]\n",
    "        \n",
    "        return {'response':random.choice(response_list)}"
   ]
  },
  {
   "cell_type": "code",
   "execution_count": 14,
   "id": "e4f02783",
   "metadata": {},
   "outputs": [],
   "source": [
    "class NakliPromptTemplate:\n",
    "    def __init__(self,template,input_variables):\n",
    "        self.template = template\n",
    "        self.input_variables = input_variables\n",
    "        \n",
    "    def format(self,input_dict):\n",
    "        return self.template.format(**input_dict)"
   ]
  },
  {
   "cell_type": "code",
   "execution_count": 20,
   "id": "7f63bc4e",
   "metadata": {},
   "outputs": [],
   "source": [
    "class NakliLLMChain:\n",
    "    def __init__(self,llm,prompt):\n",
    "        self.llm = llm\n",
    "        self.prompt = prompt\n",
    "        \n",
    "    def run(self,input_dict):\n",
    "        formatted_prompt = self.prompt.format(input_dict)\n",
    "        return self.llm.predict(formatted_prompt)['response']"
   ]
  },
  {
   "cell_type": "code",
   "execution_count": 21,
   "id": "60813ab9",
   "metadata": {},
   "outputs": [
    {
     "data": {
      "text/plain": [
       "{'response': 'AI stands for Artificial Intelligence.'}"
      ]
     },
     "execution_count": 21,
     "metadata": {},
     "output_type": "execute_result"
    }
   ],
   "source": [
    "llm = NakliLLM()\n",
    "\n",
    "template = NakliPromptTemplate(\n",
    "    template = \"write a {length} lines poem about {topic}\",\n",
    "    input_variables=[\"length\",\"topic\"]\n",
    ")\n",
    "\n",
    "prompt = template.format({\"length\":3,\"topic\":\"AI\"})\n",
    "\n",
    "llm.predict(prompt)"
   ]
  },
  {
   "cell_type": "code",
   "execution_count": 22,
   "id": "1fceb3e7",
   "metadata": {},
   "outputs": [
    {
     "data": {
      "text/plain": [
       "'AI stands for Artificial Intelligence.'"
      ]
     },
     "execution_count": 22,
     "metadata": {},
     "output_type": "execute_result"
    }
   ],
   "source": [
    "chain = NakliLLMChain(llm=llm,prompt=template)  \n",
    "chain.run({\"length\":4,\"topic\":\"Technology\"})"
   ]
  },
  {
   "cell_type": "code",
   "execution_count": null,
   "id": "bdc95f02",
   "metadata": {},
   "outputs": [],
   "source": []
  }
 ],
 "metadata": {
  "kernelspec": {
   "display_name": ".venv",
   "language": "python",
   "name": "python3"
  },
  "language_info": {
   "codemirror_mode": {
    "name": "ipython",
    "version": 3
   },
   "file_extension": ".py",
   "mimetype": "text/x-python",
   "name": "python",
   "nbconvert_exporter": "python",
   "pygments_lexer": "ipython3",
   "version": "3.13.3"
  }
 },
 "nbformat": 4,
 "nbformat_minor": 5
}
