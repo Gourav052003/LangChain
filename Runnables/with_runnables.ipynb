{
 "cells": [
  {
   "cell_type": "code",
   "execution_count": 3,
   "id": "454740b2",
   "metadata": {},
   "outputs": [],
   "source": [
    "from abc import ABC, abstractmethod\n",
    "\n",
    "class Runnable(ABC):\n",
    "    @abstractmethod\n",
    "    def invoke(input_data):\n",
    "        pass\n",
    "    \n",
    "    "
   ]
  },
  {
   "cell_type": "code",
   "execution_count": 7,
   "id": "34954a33",
   "metadata": {},
   "outputs": [],
   "source": [
    "import random\n",
    "\n",
    "class NakliLLM(Runnable):\n",
    "    def __init__(self):\n",
    "        pass\n",
    "    \n",
    "    def invoke(self, prompt):\n",
    "        response_list = [\n",
    "            \"Delhi is the capital of India.\",\n",
    "            \"IPL is a cricket league.\",\n",
    "            \"AI stands for Artificial Intelligence.\"\n",
    "        ]\n",
    "        \n",
    "        return {'response':random.choice(response_list)}\n",
    "    \n",
    "    def predict(self,prompt):\n",
    "        \n",
    "        # will get depericated soon\n",
    "        response_list = [\n",
    "            \"Delhi is the capital of India.\",\n",
    "            \"IPL is a cricket league.\",\n",
    "            \"AI stands for Artificial Intelligence.\"\n",
    "        ]\n",
    "        \n",
    "        return {'response':random.choice(response_list)}"
   ]
  },
  {
   "cell_type": "code",
   "execution_count": 8,
   "id": "c85acbc8",
   "metadata": {},
   "outputs": [],
   "source": [
    "class NakliPromptTemplate(Runnable):\n",
    "    def __init__(self,template,input_variables):\n",
    "        self.template = template\n",
    "        self.input_variables = input_variables\n",
    "    \n",
    "    def invoke(self, input_dict):\n",
    "        return self.template.format(**input_dict)\n",
    "    \n",
    "    def format(self,input_dict):\n",
    "        # will get depericated soon\n",
    "        return self.template.format(**input_dict)"
   ]
  },
  {
   "cell_type": "code",
   "execution_count": 15,
   "id": "14065bef",
   "metadata": {},
   "outputs": [],
   "source": [
    "class NakliStrOutputParser(Runnable):\n",
    "    def __init__(self):\n",
    "        pass\n",
    "    \n",
    "    def invoke(self, input_data):\n",
    "        return input_data['response']\n"
   ]
  },
  {
   "cell_type": "code",
   "execution_count": 11,
   "id": "38bb1a93",
   "metadata": {},
   "outputs": [],
   "source": [
    "class RunnableConnector(Runnable):\n",
    "    def __init__(self, runnables_list):\n",
    "        self.runnables_list = runnables_list\n",
    "        \n",
    "    def invoke(self, input_data):\n",
    "        for runnable in self.runnables_list:\n",
    "            input_data = runnable.invoke(input_data)\n",
    "\n",
    "        return input_data\n",
    "        "
   ]
  },
  {
   "cell_type": "code",
   "execution_count": 29,
   "id": "85e7391c",
   "metadata": {},
   "outputs": [
    {
     "data": {
      "text/plain": [
       "'Delhi is the capital of India.'"
      ]
     },
     "execution_count": 29,
     "metadata": {},
     "output_type": "execute_result"
    }
   ],
   "source": [
    "llm = NakliLLM()\n",
    "prompt = NakliPromptTemplate(template=\"Write {length} lines on {topic}?\",input_variables=[\"length\",\"topic\"])\n",
    "parser = NakliStrOutputParser()\n",
    "chain = RunnableConnector([prompt,llm,parser])\n",
    "chain.invoke({\"length\":5,\"topic\":\"Delhi\"})\n"
   ]
  },
  {
   "cell_type": "code",
   "execution_count": 35,
   "id": "5a790c69",
   "metadata": {},
   "outputs": [],
   "source": [
    "joke_prompt = NakliPromptTemplate(template=\"Tell me a joke about {topic}?\",input_variables=[\"topic\"])\n",
    "joke_summary_prompt = NakliPromptTemplate(template=\"Give me a summary of the following joke: {response}?\",input_variables=[\"response\"])"
   ]
  },
  {
   "cell_type": "code",
   "execution_count": 36,
   "id": "d5b73f84",
   "metadata": {},
   "outputs": [],
   "source": [
    "llm = NakliLLM()\n",
    "parser = NakliStrOutputParser()"
   ]
  },
  {
   "cell_type": "code",
   "execution_count": 37,
   "id": "727bc662",
   "metadata": {},
   "outputs": [],
   "source": [
    "chain_1 = RunnableConnector([joke_prompt,llm])\n",
    "chain_2 = RunnableConnector([joke_summary_prompt,llm,parser])"
   ]
  },
  {
   "cell_type": "code",
   "execution_count": 38,
   "id": "580de1cb",
   "metadata": {},
   "outputs": [
    {
     "data": {
      "text/plain": [
       "'Delhi is the capital of India.'"
      ]
     },
     "execution_count": 38,
     "metadata": {},
     "output_type": "execute_result"
    }
   ],
   "source": [
    "final_chain = RunnableConnector([chain_1,chain_2])\n",
    "final_chain.invoke({\"topic\":\"Delhi\"})"
   ]
  },
  {
   "cell_type": "code",
   "execution_count": null,
   "id": "c6dbfaaa",
   "metadata": {},
   "outputs": [],
   "source": []
  }
 ],
 "metadata": {
  "kernelspec": {
   "display_name": ".venv",
   "language": "python",
   "name": "python3"
  },
  "language_info": {
   "codemirror_mode": {
    "name": "ipython",
    "version": 3
   },
   "file_extension": ".py",
   "mimetype": "text/x-python",
   "name": "python",
   "nbconvert_exporter": "python",
   "pygments_lexer": "ipython3",
   "version": "3.13.3"
  }
 },
 "nbformat": 4,
 "nbformat_minor": 5
}
