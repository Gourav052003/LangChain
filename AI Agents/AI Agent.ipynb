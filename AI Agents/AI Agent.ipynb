{
 "cells": [
  {
   "cell_type": "code",
   "execution_count": 2,
   "metadata": {
    "colab": {
     "base_uri": "https://localhost:8080/"
    },
    "executionInfo": {
     "elapsed": 13138,
     "status": "ok",
     "timestamp": 1757064141276,
     "user": {
      "displayName": "Gourav Gourav",
      "userId": "08092028497578921536"
     },
     "user_tz": -330
    },
    "id": "b6biO1jkjBP0",
    "outputId": "5694a959-6a53-4867-8d86-e45a554da8f6"
   },
   "outputs": [
    {
     "name": "stdout",
     "output_type": "stream",
     "text": [
      "\u001b[?25l   \u001b[90m━━━━━━━━━━━━━━━━━━━━━━━━━━━━━━━━━━━━━━━━\u001b[0m \u001b[32m0.0/2.5 MB\u001b[0m \u001b[31m?\u001b[0m eta \u001b[36m-:--:--\u001b[0m\r\u001b[2K   \u001b[91m━━━━\u001b[0m\u001b[90m╺\u001b[0m\u001b[90m━━━━━━━━━━━━━━━━━━━━━━━━━━━━━━━━━━━\u001b[0m \u001b[32m0.3/2.5 MB\u001b[0m \u001b[31m7.4 MB/s\u001b[0m eta \u001b[36m0:00:01\u001b[0m\r\u001b[2K   \u001b[91m━━━━━━━━━━━━━━━━━━━━━━━━━━━━━━━━━━━━━━━\u001b[0m\u001b[91m╸\u001b[0m \u001b[32m2.5/2.5 MB\u001b[0m \u001b[31m38.6 MB/s\u001b[0m eta \u001b[36m0:00:01\u001b[0m\r\u001b[2K   \u001b[90m━━━━━━━━━━━━━━━━━━━━━━━━━━━━━━━━━━━━━━━━\u001b[0m \u001b[32m2.5/2.5 MB\u001b[0m \u001b[31m29.9 MB/s\u001b[0m eta \u001b[36m0:00:00\u001b[0m\n",
      "\u001b[2K   \u001b[90m━━━━━━━━━━━━━━━━━━━━━━━━━━━━━━━━━━━━━━━━\u001b[0m \u001b[32m74.5/74.5 kB\u001b[0m \u001b[31m4.9 MB/s\u001b[0m eta \u001b[36m0:00:00\u001b[0m\n",
      "\u001b[2K   \u001b[90m━━━━━━━━━━━━━━━━━━━━━━━━━━━━━━━━━━━━━━━━\u001b[0m \u001b[32m3.3/3.3 MB\u001b[0m \u001b[31m101.4 MB/s\u001b[0m eta \u001b[36m0:00:00\u001b[0m\n",
      "\u001b[2K   \u001b[90m━━━━━━━━━━━━━━━━━━━━━━━━━━━━━━━━━━━━━━━━\u001b[0m \u001b[32m64.7/64.7 kB\u001b[0m \u001b[31m4.3 MB/s\u001b[0m eta \u001b[36m0:00:00\u001b[0m\n",
      "\u001b[2K   \u001b[90m━━━━━━━━━━━━━━━━━━━━━━━━━━━━━━━━━━━━━━━━\u001b[0m \u001b[32m50.9/50.9 kB\u001b[0m \u001b[31m3.2 MB/s\u001b[0m eta \u001b[36m0:00:00\u001b[0m\n",
      "\u001b[?25h\u001b[31mERROR: pip's dependency resolver does not currently take into account all the packages that are installed. This behaviour is the source of the following dependency conflicts.\n",
      "google-colab 1.0.0 requires requests==2.32.4, but you have requests 2.32.5 which is incompatible.\u001b[0m\u001b[31m\n",
      "\u001b[0m"
     ]
    }
   ],
   "source": [
    "!pip install -q langchain langchain_community langchain-openai openai duckduckgo-search"
   ]
  },
  {
   "cell_type": "code",
   "execution_count": 3,
   "metadata": {
    "colab": {
     "base_uri": "https://localhost:8080/"
    },
    "executionInfo": {
     "elapsed": 10834,
     "status": "ok",
     "timestamp": 1757064152113,
     "user": {
      "displayName": "Gourav Gourav",
      "userId": "08092028497578921536"
     },
     "user_tz": -330
    },
    "id": "2pEoNA3bkyIg",
    "outputId": "9db68e9a-e618-4274-dc2e-e91c2c625811"
   },
   "outputs": [
    {
     "name": "stdout",
     "output_type": "stream",
     "text": [
      "\u001b[?25l   \u001b[90m━━━━━━━━━━━━━━━━━━━━━━━━━━━━━━━━━━━━━━━━\u001b[0m \u001b[32m0.0/5.3 MB\u001b[0m \u001b[31m?\u001b[0m eta \u001b[36m-:--:--\u001b[0m\r\u001b[2K   \u001b[91m━━━━\u001b[0m\u001b[91m╸\u001b[0m\u001b[90m━━━━━━━━━━━━━━━━━━━━━━━━━━━━━━━━━━━\u001b[0m \u001b[32m0.6/5.3 MB\u001b[0m \u001b[31m18.2 MB/s\u001b[0m eta \u001b[36m0:00:01\u001b[0m\r\u001b[2K   \u001b[91m━━━━━━━━━━━━━━━━━━━━━━━━━━━━━━━━━━━━━━━\u001b[0m\u001b[91m╸\u001b[0m \u001b[32m5.2/5.3 MB\u001b[0m \u001b[31m76.0 MB/s\u001b[0m eta \u001b[36m0:00:01\u001b[0m\r\u001b[2K   \u001b[90m━━━━━━━━━━━━━━━━━━━━━━━━━━━━━━━━━━━━━━━━\u001b[0m \u001b[32m5.3/5.3 MB\u001b[0m \u001b[31m56.7 MB/s\u001b[0m eta \u001b[36m0:00:00\u001b[0m\n",
      "\u001b[?25h"
     ]
    }
   ],
   "source": [
    "!pip install -q ddgs"
   ]
  },
  {
   "cell_type": "code",
   "execution_count": null,
   "metadata": {
    "executionInfo": {
     "elapsed": 3,
     "status": "ok",
     "timestamp": 1757064244727,
     "user": {
      "displayName": "Gourav Gourav",
      "userId": "08092028497578921536"
     },
     "user_tz": -330
    },
    "id": "gta66cRcipRJ"
   },
   "outputs": [],
   "source": [
    "from langchain_openai import ChatOpenAI\n",
    "from langchain_community.tools import DuckDuckGoSearchRun\n",
    "from langchain_core.tools import tool\n",
    "from langchain.agents import create_react_agent, AgentExecutor\n",
    "from langchain import hub # for predifined prompts\n",
    "from dotenv import load_dotenv\n",
    "import requests\n"
   ]
  },
  {
   "cell_type": "code",
   "execution_count": null,
   "metadata": {
    "executionInfo": {
     "elapsed": 552,
     "status": "ok",
     "timestamp": 1757064245581,
     "user": {
      "displayName": "Gourav Gourav",
      "userId": "08092028497578921536"
     },
     "user_tz": -330
    },
    "id": "PTps83ndj6WF"
   },
   "outputs": [],
   "source": [
    "load_dotenv()\n",
    "llm = ChatOpenAI()"
   ]
  },
  {
   "cell_type": "code",
   "execution_count": 7,
   "metadata": {
    "executionInfo": {
     "elapsed": 17,
     "status": "ok",
     "timestamp": 1757064245608,
     "user": {
      "displayName": "Gourav Gourav",
      "userId": "08092028497578921536"
     },
     "user_tz": -330
    },
    "id": "LR0ZX0-WkkMi"
   },
   "outputs": [],
   "source": [
    "# Stem - 1: Create Tool\n",
    "search_tool = DuckDuckGoSearchRun()\n",
    "\n",
    "@tool\n",
    "def get_weather_data(city:str)->str:\n",
    "  \"\"\"\n",
    "  This function fetches the current weather data for a given city.\n",
    "  \"\"\"\n",
    "\n",
    "  url = f\"http://api.weatherstack.com/current?access_key=c4b1761e8bf93a8495af4c863f84bcb8&query={city}\"\n",
    "\n",
    "  response = requests.get(url)\n",
    "  return response.json()\n"
   ]
  },
  {
   "cell_type": "code",
   "execution_count": 8,
   "metadata": {
    "executionInfo": {
     "elapsed": 127,
     "status": "ok",
     "timestamp": 1757064245954,
     "user": {
      "displayName": "Gourav Gourav",
      "userId": "08092028497578921536"
     },
     "user_tz": -330
    },
    "id": "MmidK4Rdkv1_"
   },
   "outputs": [],
   "source": [
    "# Step - 2: Pull the ReAct Prompt from langchain hub\n",
    "prompt = hub.pull(\"hwchase17/react\") # ReAct -> reasoning + action prompt (a design pattern for agent)"
   ]
  },
  {
   "cell_type": "code",
   "execution_count": 9,
   "metadata": {
    "executionInfo": {
     "elapsed": 13,
     "status": "ok",
     "timestamp": 1757064246836,
     "user": {
      "displayName": "Gourav Gourav",
      "userId": "08092028497578921536"
     },
     "user_tz": -330
    },
    "id": "kmOQ8jkomz8U"
   },
   "outputs": [],
   "source": [
    "# Step - 3: create react agent with pulled prompt\n",
    "agent = create_react_agent(\n",
    "    llm=llm,\n",
    "    tools=[search_tool,get_weather_data],\n",
    "    prompt=prompt\n",
    ")"
   ]
  },
  {
   "cell_type": "code",
   "execution_count": 10,
   "metadata": {
    "executionInfo": {
     "elapsed": 14,
     "status": "ok",
     "timestamp": 1757064248669,
     "user": {
      "displayName": "Gourav Gourav",
      "userId": "08092028497578921536"
     },
     "user_tz": -330
    },
    "id": "x2cFuORJncW3"
   },
   "outputs": [],
   "source": [
    "# Step 4: Wrapt it with Agent Executer\n",
    "agent_executer = AgentExecutor(\n",
    "    agent = agent,\n",
    "    tools = [search_tool,get_weather_data],\n",
    "    verbose = True\n",
    ")"
   ]
  },
  {
   "cell_type": "code",
   "execution_count": 11,
   "metadata": {
    "colab": {
     "base_uri": "https://localhost:8080/"
    },
    "executionInfo": {
     "elapsed": 6896,
     "status": "ok",
     "timestamp": 1757064288303,
     "user": {
      "displayName": "Gourav Gourav",
      "userId": "08092028497578921536"
     },
     "user_tz": -330
    },
    "id": "iB0biXBRoeUL",
    "outputId": "ab3f2679-9340-474d-80b4-ae0b405350b4"
   },
   "outputs": [
    {
     "name": "stdout",
     "output_type": "stream",
     "text": [
      "\n",
      "\n",
      "\u001b[1m> Entering new AgentExecutor chain...\u001b[0m\n",
      "\u001b[32;1m\u001b[1;3mI should search for the capital of Punjab first and then use get_weather_data to find its temperature.\n",
      "Action: duckduckgo_search\n",
      "Action Input: \"capital of Punjab\"\u001b[0m\u001b[36;1m\u001b[1;3mThe Union of India was consequently established from 9 former Indian provinces (East Punjab , United Provinces, Central Provinces, Madras, Bombay, Bihar, Orissa, West Bengal and Assam)... 1 day ago - Punjab (Punjabi, Urdu: پنجاب, pronounced [pə̞ɲˈdʒäːb] ⓘ) is a province of Pakistan. With a population of over 127 million, it is the most populous province in Pakistan and the second most populous subnational polity in the world. Located in the central-eastern region of the country, it has the largest economy, contributing the most to national GDP in Pakistan. Lahore is the capital ... 1 day ago - The Punjab Province, officially the Province of the Punjab , was a province of British India, with its capital in Lahore and summer capitals in Murree and Simla. At its greatest extent, it stretched from the Khyber Pass to Delhi; and from the Babusar Pass and the borders of Tibet to the borders ... 2 weeks ago - The following table lists the 81 cities in Punjab with a population of at least 100,000 on 1 March 2023, according to the 2023 Census of Pakistan. A city is displayed in bold if it is a state or federal capital . April 23, 2025 - The state is bordered by the Indian states of Jammu and Kashmir to the north, Himachal Pradesh to the east, Haryana to the south and southeast, Rajasthan to the southwest, and the Pakistani province of Punjab to the west. The state capital is located in Chandigarh, a Union Territory and also ...\u001b[0m\u001b[32;1m\u001b[1;3mThe search results were not specific enough. I should refine my search to find the capital of Punjab.\n",
      "Action: duckduckgo_search\n",
      "Action Input: \"capital of Punjab India\"\u001b[0m\u001b[36;1m\u001b[1;3mAfter the partition of India in 1947, the Punjab province of British India was divided between India and Pakistan. ... Capital of Punjab : Chandigarh ... ... is a village through which the controversial Radcliffe Line , the boundary dividing the Indian Punjab from Pakistani Punjab upon the Partition of ... India is a federal union comprising 28 states and 8 union territories, for a total of 36 subnational entities. The states and union territories are further subdivided into 800 districts and smaller administrative divisions by the respective subnation... What is Punjab , What is the capital of Punjab , Punjab is an Indian state located in the northwestern region of the country . Chandigarh Union territory functions as the capital of Punjab and of Haryana. ... the capital of the Pakistani Punjab , and Pakistan's cultural capital\u001b[0m\u001b[32;1m\u001b[1;3mI now know that the capital of Punjab, India is Chandigarh. I can now use get_weather_data to find its temperature.\n",
      "Action: get_weather_data\n",
      "Action Input: \"Chandigarh\"\u001b[0m\u001b[33;1m\u001b[1;3m{'request': {'type': 'City', 'query': 'Chandigarh, India', 'language': 'en', 'unit': 'm'}, 'location': {'name': 'Chandigarh', 'country': 'India', 'region': 'Chandigarh', 'lat': '30.737', 'lon': '76.787', 'timezone_id': 'Asia/Kolkata', 'localtime': '2025-09-05 14:55', 'localtime_epoch': 1757084100, 'utc_offset': '5.50'}, 'current': {'observation_time': '09:25 AM', 'temperature': 31, 'weather_code': 176, 'weather_icons': ['https://cdn.worldweatheronline.com/images/wsymbols01_png_64/wsymbol_0009_light_rain_showers.png'], 'weather_descriptions': ['Patchy rain nearby'], 'astro': {'sunrise': '06:01 AM', 'sunset': '06:41 PM', 'moonrise': '05:22 PM', 'moonset': '03:07 AM', 'moon_phase': 'Waxing Gibbous', 'moon_illumination': 91}, 'air_quality': {'co': '1696.45', 'no2': '19.61', 'o3': '128', 'so2': '17.205', 'pm2_5': '39.405', 'pm10': '40.145', 'us-epa-index': '2', 'gb-defra-index': '2'}, 'wind_speed': 4, 'wind_degree': 173, 'wind_dir': 'S', 'pressure': 1005, 'precip': 0.7, 'humidity': 64, 'cloudcover': 84, 'feelslike': 36, 'uv_index': 7, 'visibility': 9, 'is_day': 'yes'}}\u001b[0m\u001b[32;1m\u001b[1;3mThe temperature of Chandigarh, the capital of Punjab, India, is 31°C.\n",
      "Final Answer: The capital of Punjab, India is Chandigarh and its temperature is 31°C.\u001b[0m\n",
      "\n",
      "\u001b[1m> Finished chain.\u001b[0m\n",
      "{'input': 'Find the capital of Punjab and then find its temperature', 'output': 'The capital of Punjab, India is Chandigarh and its temperature is 31°C.'}\n"
     ]
    }
   ],
   "source": [
    "# Step - 5: Invoke\n",
    "response = agent_executer.invoke({\"input\": \"Find the capital of Punjab and then find its temperature\"})\n",
    "print(response)\n",
    "\n",
    "# blue and yellow is obeservation from tool\n",
    "# green is thought"
   ]
  },
  {
   "cell_type": "code",
   "execution_count": 12,
   "metadata": {
    "colab": {
     "base_uri": "https://localhost:8080/"
    },
    "executionInfo": {
     "elapsed": 48,
     "status": "ok",
     "timestamp": 1757064639521,
     "user": {
      "displayName": "Gourav Gourav",
      "userId": "08092028497578921536"
     },
     "user_tz": -330
    },
    "id": "j_3gFUgtow_w",
    "outputId": "8fff7228-4c78-43f0-cb1b-f1b5082aa5fc"
   },
   "outputs": [
    {
     "data": {
      "text/plain": [
       "{'input': 'Find the capital of Punjab and then find its temperature',\n",
       " 'output': 'The capital of Punjab, India is Chandigarh and its temperature is 31°C.'}"
      ]
     },
     "execution_count": 12,
     "metadata": {},
     "output_type": "execute_result"
    }
   ],
   "source": [
    "response"
   ]
  },
  {
   "cell_type": "code",
   "execution_count": null,
   "metadata": {
    "id": "50JV_jNbqP7i"
   },
   "outputs": [],
   "source": [
    "# prefferable using langGraph for industry grade application due to scalablity"
   ]
  }
 ],
 "metadata": {
  "colab": {
   "authorship_tag": "ABX9TyMTZBAVg+jS56WoW1r/mPjt",
   "provenance": []
  },
  "kernelspec": {
   "display_name": "Python 3",
   "name": "python3"
  },
  "language_info": {
   "name": "python"
  }
 },
 "nbformat": 4,
 "nbformat_minor": 0
}
